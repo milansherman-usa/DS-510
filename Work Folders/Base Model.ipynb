{
 "cells": [
  {
   "cell_type": "code",
   "execution_count": 3,
   "metadata": {},
   "outputs": [
    {
     "data": {
      "text/plain": [
       "(40321, 634)"
      ]
     },
     "execution_count": 3,
     "metadata": {},
     "output_type": "execute_result"
    }
   ],
   "source": [
    "import pandas as pd\n",
    "import matplotlib.pyplot as plt\n",
    "%matplotlib inline\n",
    "df = pd.read_csv('Q:/Business Analytics/Data Science/Price Elasticity/trainingdata.csv')\n",
    "df.shape"
   ]
  },
  {
   "cell_type": "code",
   "execution_count": 4,
   "metadata": {},
   "outputs": [
    {
     "data": {
      "text/plain": [
       "(43, 634)"
      ]
     },
     "execution_count": 4,
     "metadata": {},
     "output_type": "execute_result"
    }
   ],
   "source": [
    "dfupc=df[df['upc'].isin(['306030535500'])]\n",
    "dfupc.shape"
   ]
  },
  {
   "cell_type": "code",
   "execution_count": 5,
   "metadata": {},
   "outputs": [
    {
     "data": {
      "text/plain": [
       "(43, 5)"
      ]
     },
     "execution_count": 5,
     "metadata": {},
     "output_type": "execute_result"
    }
   ],
   "source": [
    "df2=dfupc[['saleamount','quantity','storesize','avgdiscount','privatelabel']]\n",
    "df2.shape\n"
   ]
  },
  {
   "cell_type": "code",
   "execution_count": 10,
   "metadata": {},
   "outputs": [
    {
     "data": {
      "text/plain": [
       "<matplotlib.axes._subplots.AxesSubplot at 0x1d195e4aa90>"
      ]
     },
     "execution_count": 10,
     "metadata": {},
     "output_type": "execute_result"
    },
    {
     "data": {
      "image/png": "[encoded data removed]",
      "text/plain": [
       "<matplotlib.figure.Figure at 0x1d19582e1d0>"
      ]
     },
     "metadata": {},
     "output_type": "display_data"
    },
    {
     "data": {
      "image/png": "[encoded data removed]",
      "text/plain": [
       "<matplotlib.figure.Figure at 0x1d195e4a4e0>"
      ]
     },
     "metadata": {},
     "output_type": "display_data"
    }
   ],
   "source": [
    "fig, axs = plt.subplots(sharey=True)\n",
    "df2.plot(kind='scatter', x='saleamount', y='quantity', figsize=(16,8))\n",
    "\n",
    "\n",
    "\n",
    "\n"
   ]
  },
  {
   "cell_type": "code",
   "execution_count": 11,
   "metadata": {},
   "outputs": [
    {
     "data": {
      "text/plain": [
       "Intercept     0.282929\n",
       "saleamount    0.260564\n",
       "dtype: float64"
      ]
     },
     "execution_count": 11,
     "metadata": {},
     "output_type": "execute_result"
    }
   ],
   "source": [
    "# this is the standard import if you're using \"formula notation\" (similar to R)\n",
    "import statsmodels.formula.api as smf\n",
    "\n",
    "# create a fitted model in one line\n",
    "lm = smf.ols(formula='quantity ~ saleamount', data=df2).fit()\n",
    "\n",
    "# print the coefficients\n",
    "lm.params"
   ]
  },
  {
   "cell_type": "code",
   "execution_count": null,
   "metadata": {},
   "outputs": [],
   "source": []
  },
  {
   "cell_type": "code",
   "execution_count": 14,
   "metadata": {},
   "outputs": [
    {
     "data": {
      "text/html": [
       "<div>\n",
       "<style scoped>\n",
       "    .dataframe tbody tr th:only-of-type {\n",
       "        vertical-align: middle;\n",
       "    }\n",
       "\n",
       "    .dataframe tbody tr th {\n",
       "        vertical-align: top;\n",
       "    }\n",
       "\n",
       "    .dataframe thead th {\n",
       "        text-align: right;\n",
       "    }\n",
       "</style>\n",
       "<table border=\"1\" class=\"dataframe\">\n",
       "  <thead>\n",
       "    <tr style=\"text-align: right;\">\n",
       "      <th></th>\n",
       "      <th>saleamount</th>\n",
       "    </tr>\n",
       "  </thead>\n",
       "  <tbody>\n",
       "    <tr>\n",
       "      <th>0</th>\n",
       "      <td>2.33</td>\n",
       "    </tr>\n",
       "    <tr>\n",
       "      <th>1</th>\n",
       "      <td>18.45</td>\n",
       "    </tr>\n",
       "  </tbody>\n",
       "</table>\n",
       "</div>"
      ],
      "text/plain": [
       "   saleamount\n",
       "0        2.33\n",
       "1       18.45"
      ]
     },
     "execution_count": 14,
     "metadata": {},
     "output_type": "execute_result"
    }
   ],
   "source": [
    "X_new = pd.DataFrame({'saleamount': [df2.saleamount.min(), df2.saleamount.max()]})\n",
    "X_new.head()\n",
    "\n"
   ]
  },
  {
   "cell_type": "code",
   "execution_count": 15,
   "metadata": {},
   "outputs": [
    {
     "data": {
      "text/plain": [
       "0    0.890043\n",
       "1    5.090332\n",
       "dtype: float64"
      ]
     },
     "execution_count": 15,
     "metadata": {},
     "output_type": "execute_result"
    }
   ],
   "source": [
    "preds = lm.predict (X_new)\n",
    "preds"
   ]
  },
  {
   "cell_type": "code",
   "execution_count": 16,
   "metadata": {},
   "outputs": [
    {
     "data": {
      "text/plain": [
       "[<matplotlib.lines.Line2D at 0x1d1973e99e8>]"
      ]
     },
     "execution_count": 16,
     "metadata": {},
     "output_type": "execute_result"
    },
    {
     "data": {
      "image/png": "[encoded data removed]",
      "text/plain": [
       "<matplotlib.figure.Figure at 0x1d1973e9d30>"
      ]
     },
     "metadata": {},
     "output_type": "display_data"
    }
   ],
   "source": [
    "df2.plot(kind='scatter', x='saleamount', y='quantity')\n",
    "plt.plot(X_new, preds, c='red', linewidth=2)\n"
   ]
  },
  {
   "cell_type": "code",
   "execution_count": 21,
   "metadata": {},
   "outputs": [
    {
     "data": {
      "text/plain": [
       "(43, 5)"
      ]
     },
     "execution_count": 21,
     "metadata": {},
     "output_type": "execute_result"
    }
   ],
   "source": [
    "dfsmall = df2[df2['privatelabel'].isin(['Major Label'])]\n",
    "dfsmall.shape\n",
    "\n",
    "              "
   ]
  },
  {
   "cell_type": "code",
   "execution_count": 1,
   "metadata": {},
   "outputs": [
    {
     "ename": "NameError",
     "evalue": "name 'pd' is not defined",
     "output_type": "error",
     "traceback": [
      "\u001b[1;31m---------------------------------------------------------------------------\u001b[0m",
      "\u001b[1;31mNameError\u001b[0m                                 Traceback (most recent call last)",
      "\u001b[1;32m<ipython-input-1-303fd1c36011>\u001b[0m in \u001b[0;36m<module>\u001b[1;34m()\u001b[0m\n\u001b[1;32m----> 1\u001b[1;33m \u001b[0mpd\u001b[0m\u001b[1;33m.\u001b[0m\u001b[0mSeries\u001b[0m\u001b[1;33m(\u001b[0m\u001b[0mdf\u001b[0m\u001b[1;33m[\u001b[0m\u001b[1;34m'upc'\u001b[0m\u001b[1;33m]\u001b[0m\u001b[1;33m)\u001b[0m\u001b[1;33m.\u001b[0m\u001b[0mvalue_counts\u001b[0m\u001b[1;33m(\u001b[0m\u001b[1;33m)\u001b[0m\u001b[1;33m\u001b[0m\u001b[0m\n\u001b[0m",
      "\u001b[1;31mNameError\u001b[0m: name 'pd' is not defined"
     ]
    }
   ],
   "source": [
    "pd.Series(df['upc']).value_counts()"
   ]
  },
  {
   "cell_type": "code",
   "execution_count": 23,
   "metadata": {},
   "outputs": [
    {
     "data": {
      "text/plain": [
       "(1309, 634)"
      ]
     },
     "execution_count": 23,
     "metadata": {},
     "output_type": "execute_result"
    }
   ],
   "source": [
    "dfupc=df[df['upc'].isin(['17000026700'])]\n",
    "dfupc.shape"
   ]
  },
  {
   "cell_type": "code",
   "execution_count": 24,
   "metadata": {},
   "outputs": [
    {
     "data": {
      "text/plain": [
       "Large      761\n",
       "Medium     343\n",
       "Small      187\n",
       "Unknown     18\n",
       "Name: storesize, dtype: int64"
      ]
     },
     "execution_count": 24,
     "metadata": {},
     "output_type": "execute_result"
    }
   ],
   "source": [
    "pd.Series(dfupc['privatelabel']).value_counts()"
   ]
  },
  {
   "cell_type": "code",
   "execution_count": 1,
   "metadata": {},
   "outputs": [
    {
     "ename": "NameError",
     "evalue": "name 'pd' is not defined",
     "output_type": "error",
     "traceback": [
      "\u001b[1;31m---------------------------------------------------------------------------\u001b[0m",
      "\u001b[1;31mNameError\u001b[0m                                 Traceback (most recent call last)",
      "\u001b[1;32m<ipython-input-1-fef690cdb1b1>\u001b[0m in \u001b[0;36m<module>\u001b[1;34m()\u001b[0m\n\u001b[1;32m----> 1\u001b[1;33m \u001b[0mpd\u001b[0m\u001b[1;33m.\u001b[0m\u001b[0mSeries\u001b[0m\u001b[1;33m(\u001b[0m\u001b[0mdfupc\u001b[0m\u001b[1;33m[\u001b[0m\u001b[1;34m'privatelabeldesciption'\u001b[0m\u001b[1;33m]\u001b[0m\u001b[1;33m)\u001b[0m\u001b[1;33m.\u001b[0m\u001b[0mvalue_counts\u001b[0m\u001b[1;33m(\u001b[0m\u001b[1;33m)\u001b[0m\u001b[1;33m\u001b[0m\u001b[0m\n\u001b[0m",
      "\u001b[1;31mNameError\u001b[0m: name 'pd' is not defined"
     ]
    }
   ],
   "source": [
    "pd.Series(dfupc['privatelabeldesciption']).value_counts()\n"
   ]
  },
  {
   "cell_type": "code",
   "execution_count": 34,
   "metadata": {},
   "outputs": [
    {
     "data": {
      "text/html": [
       "<div>\n",
       "<style scoped>\n",
       "    .dataframe tbody tr th:only-of-type {\n",
       "        vertical-align: middle;\n",
       "    }\n",
       "\n",
       "    .dataframe tbody tr th {\n",
       "        vertical-align: top;\n",
       "    }\n",
       "\n",
       "    .dataframe thead th {\n",
       "        text-align: right;\n",
       "    }\n",
       "</style>\n",
       "<table border=\"1\" class=\"dataframe\">\n",
       "  <thead>\n",
       "    <tr style=\"text-align: right;\">\n",
       "      <th></th>\n",
       "      <th>Unnamed: 0</th>\n",
       "      <th>datedimensionid</th>\n",
       "      <th>storeitemdimensionid</th>\n",
       "      <th>locationdimensionid</th>\n",
       "      <th>actualdate</th>\n",
       "      <th>upc</th>\n",
       "      <th>mfsfilenumber</th>\n",
       "      <th>storenumber</th>\n",
       "      <th>fyweekendingdateint</th>\n",
       "      <th>category</th>\n",
       "      <th>...</th>\n",
       "      <th>NAME</th>\n",
       "      <th>CompetitorsNearbyCount</th>\n",
       "      <th>CompetitorsAvgDriveTime</th>\n",
       "      <th>CompetitorsMinDriveTime</th>\n",
       "      <th>WalmartsNearbyCount</th>\n",
       "      <th>WalmartAvgDriveTime</th>\n",
       "      <th>WalmartMinDriveTime</th>\n",
       "      <th>storesize_Medium</th>\n",
       "      <th>storesize_Small</th>\n",
       "      <th>storesize_Unknown</th>\n",
       "    </tr>\n",
       "  </thead>\n",
       "  <tbody>\n",
       "    <tr>\n",
       "      <th>2429</th>\n",
       "      <td>2429</td>\n",
       "      <td>20170205</td>\n",
       "      <td>1005207</td>\n",
       "      <td>333</td>\n",
       "      <td>2017-02-05</td>\n",
       "      <td>17000026700</td>\n",
       "      <td>1632</td>\n",
       "      <td>1632</td>\n",
       "      <td>20170205</td>\n",
       "      <td>Personal Care-Soaps</td>\n",
       "      <td>...</td>\n",
       "      <td>Sioux Falls #3</td>\n",
       "      <td>12</td>\n",
       "      <td>8.164458</td>\n",
       "      <td>3.070838</td>\n",
       "      <td>4.0</td>\n",
       "      <td>9.877826</td>\n",
       "      <td>6.947116</td>\n",
       "      <td>0</td>\n",
       "      <td>0</td>\n",
       "      <td>0</td>\n",
       "    </tr>\n",
       "    <tr>\n",
       "      <th>2430</th>\n",
       "      <td>2430</td>\n",
       "      <td>20170212</td>\n",
       "      <td>1005207</td>\n",
       "      <td>333</td>\n",
       "      <td>2017-02-12</td>\n",
       "      <td>17000026700</td>\n",
       "      <td>1632</td>\n",
       "      <td>1632</td>\n",
       "      <td>20170212</td>\n",
       "      <td>Personal Care-Soaps</td>\n",
       "      <td>...</td>\n",
       "      <td>Sioux Falls #3</td>\n",
       "      <td>12</td>\n",
       "      <td>8.164458</td>\n",
       "      <td>3.070838</td>\n",
       "      <td>4.0</td>\n",
       "      <td>9.877826</td>\n",
       "      <td>6.947116</td>\n",
       "      <td>0</td>\n",
       "      <td>0</td>\n",
       "      <td>0</td>\n",
       "    </tr>\n",
       "    <tr>\n",
       "      <th>2431</th>\n",
       "      <td>2431</td>\n",
       "      <td>20170219</td>\n",
       "      <td>1005207</td>\n",
       "      <td>333</td>\n",
       "      <td>2017-02-19</td>\n",
       "      <td>17000026700</td>\n",
       "      <td>1632</td>\n",
       "      <td>1632</td>\n",
       "      <td>20170219</td>\n",
       "      <td>Personal Care-Soaps</td>\n",
       "      <td>...</td>\n",
       "      <td>Sioux Falls #3</td>\n",
       "      <td>12</td>\n",
       "      <td>8.164458</td>\n",
       "      <td>3.070838</td>\n",
       "      <td>4.0</td>\n",
       "      <td>9.877826</td>\n",
       "      <td>6.947116</td>\n",
       "      <td>0</td>\n",
       "      <td>0</td>\n",
       "      <td>0</td>\n",
       "    </tr>\n",
       "    <tr>\n",
       "      <th>2432</th>\n",
       "      <td>2432</td>\n",
       "      <td>20170226</td>\n",
       "      <td>1005207</td>\n",
       "      <td>333</td>\n",
       "      <td>2017-02-26</td>\n",
       "      <td>17000026700</td>\n",
       "      <td>1632</td>\n",
       "      <td>1632</td>\n",
       "      <td>20170226</td>\n",
       "      <td>Personal Care-Soaps</td>\n",
       "      <td>...</td>\n",
       "      <td>Sioux Falls #3</td>\n",
       "      <td>12</td>\n",
       "      <td>8.164458</td>\n",
       "      <td>3.070838</td>\n",
       "      <td>4.0</td>\n",
       "      <td>9.877826</td>\n",
       "      <td>6.947116</td>\n",
       "      <td>0</td>\n",
       "      <td>0</td>\n",
       "      <td>0</td>\n",
       "    </tr>\n",
       "    <tr>\n",
       "      <th>2433</th>\n",
       "      <td>2433</td>\n",
       "      <td>20170312</td>\n",
       "      <td>1005207</td>\n",
       "      <td>333</td>\n",
       "      <td>2017-03-12</td>\n",
       "      <td>17000026700</td>\n",
       "      <td>1632</td>\n",
       "      <td>1632</td>\n",
       "      <td>20170312</td>\n",
       "      <td>Personal Care-Soaps</td>\n",
       "      <td>...</td>\n",
       "      <td>Sioux Falls #3</td>\n",
       "      <td>12</td>\n",
       "      <td>8.164458</td>\n",
       "      <td>3.070838</td>\n",
       "      <td>4.0</td>\n",
       "      <td>9.877826</td>\n",
       "      <td>6.947116</td>\n",
       "      <td>0</td>\n",
       "      <td>0</td>\n",
       "      <td>0</td>\n",
       "    </tr>\n",
       "  </tbody>\n",
       "</table>\n",
       "<p>5 rows × 637 columns</p>\n",
       "</div>"
      ],
      "text/plain": [
       "      Unnamed: 0  datedimensionid  storeitemdimensionid  locationdimensionid  \\\n",
       "2429        2429         20170205               1005207                  333   \n",
       "2430        2430         20170212               1005207                  333   \n",
       "2431        2431         20170219               1005207                  333   \n",
       "2432        2432         20170226               1005207                  333   \n",
       "2433        2433         20170312               1005207                  333   \n",
       "\n",
       "      actualdate          upc  mfsfilenumber  storenumber  \\\n",
       "2429  2017-02-05  17000026700           1632         1632   \n",
       "2430  2017-02-12  17000026700           1632         1632   \n",
       "2431  2017-02-19  17000026700           1632         1632   \n",
       "2432  2017-02-26  17000026700           1632         1632   \n",
       "2433  2017-03-12  17000026700           1632         1632   \n",
       "\n",
       "      fyweekendingdateint             category        ...         \\\n",
       "2429             20170205  Personal Care-Soaps        ...          \n",
       "2430             20170212  Personal Care-Soaps        ...          \n",
       "2431             20170219  Personal Care-Soaps        ...          \n",
       "2432             20170226  Personal Care-Soaps        ...          \n",
       "2433             20170312  Personal Care-Soaps        ...          \n",
       "\n",
       "                NAME CompetitorsNearbyCount CompetitorsAvgDriveTime  \\\n",
       "2429  Sioux Falls #3                     12                8.164458   \n",
       "2430  Sioux Falls #3                     12                8.164458   \n",
       "2431  Sioux Falls #3                     12                8.164458   \n",
       "2432  Sioux Falls #3                     12                8.164458   \n",
       "2433  Sioux Falls #3                     12                8.164458   \n",
       "\n",
       "     CompetitorsMinDriveTime WalmartsNearbyCount WalmartAvgDriveTime  \\\n",
       "2429                3.070838                 4.0            9.877826   \n",
       "2430                3.070838                 4.0            9.877826   \n",
       "2431                3.070838                 4.0            9.877826   \n",
       "2432                3.070838                 4.0            9.877826   \n",
       "2433                3.070838                 4.0            9.877826   \n",
       "\n",
       "     WalmartMinDriveTime storesize_Medium storesize_Small storesize_Unknown  \n",
       "2429            6.947116                0               0                 0  \n",
       "2430            6.947116                0               0                 0  \n",
       "2431            6.947116                0               0                 0  \n",
       "2432            6.947116                0               0                 0  \n",
       "2433            6.947116                0               0                 0  \n",
       "\n",
       "[5 rows x 637 columns]"
      ]
     },
     "execution_count": 34,
     "metadata": {},
     "output_type": "execute_result"
    }
   ],
   "source": [
    "# create three dummy variables using get_dummies, then exclude the first dummy column\n",
    "storesize_dummies = pd.get_dummies(dfupc.storesize, prefix='storesize').iloc[:, 1:]\n",
    "\n",
    "# concatenate the dummy variable columns onto the original DataFrame (axis=0 means rows, axis=1 means columns)\n",
    "df2 = pd.concat([dfupc, storesize_dummies], axis=1)\n",
    "df2.head()"
   ]
  },
  {
   "cell_type": "code",
   "execution_count": 35,
   "metadata": {},
   "outputs": [
    {
     "data": {
      "text/html": [
       "<div>\n",
       "<style scoped>\n",
       "    .dataframe tbody tr th:only-of-type {\n",
       "        vertical-align: middle;\n",
       "    }\n",
       "\n",
       "    .dataframe tbody tr th {\n",
       "        vertical-align: top;\n",
       "    }\n",
       "\n",
       "    .dataframe thead th {\n",
       "        text-align: right;\n",
       "    }\n",
       "</style>\n",
       "<table border=\"1\" class=\"dataframe\">\n",
       "  <thead>\n",
       "    <tr style=\"text-align: right;\">\n",
       "      <th></th>\n",
       "      <th>quantity</th>\n",
       "      <th>saleamount</th>\n",
       "      <th>avgdiscount</th>\n",
       "      <th>storesize</th>\n",
       "      <th>storesize_Medium</th>\n",
       "      <th>storesize_Small</th>\n",
       "    </tr>\n",
       "  </thead>\n",
       "  <tbody>\n",
       "    <tr>\n",
       "      <th>2429</th>\n",
       "      <td>2.0</td>\n",
       "      <td>3.96</td>\n",
       "      <td>0.0</td>\n",
       "      <td>Large</td>\n",
       "      <td>0</td>\n",
       "      <td>0</td>\n",
       "    </tr>\n",
       "    <tr>\n",
       "      <th>2430</th>\n",
       "      <td>5.0</td>\n",
       "      <td>9.90</td>\n",
       "      <td>0.0</td>\n",
       "      <td>Large</td>\n",
       "      <td>0</td>\n",
       "      <td>0</td>\n",
       "    </tr>\n",
       "    <tr>\n",
       "      <th>2431</th>\n",
       "      <td>4.0</td>\n",
       "      <td>7.92</td>\n",
       "      <td>0.0</td>\n",
       "      <td>Large</td>\n",
       "      <td>0</td>\n",
       "      <td>0</td>\n",
       "    </tr>\n",
       "    <tr>\n",
       "      <th>2432</th>\n",
       "      <td>6.0</td>\n",
       "      <td>11.88</td>\n",
       "      <td>0.0</td>\n",
       "      <td>Large</td>\n",
       "      <td>0</td>\n",
       "      <td>0</td>\n",
       "    </tr>\n",
       "    <tr>\n",
       "      <th>2433</th>\n",
       "      <td>1.0</td>\n",
       "      <td>1.00</td>\n",
       "      <td>0.0</td>\n",
       "      <td>Large</td>\n",
       "      <td>0</td>\n",
       "      <td>0</td>\n",
       "    </tr>\n",
       "  </tbody>\n",
       "</table>\n",
       "</div>"
      ],
      "text/plain": [
       "      quantity  saleamount  avgdiscount storesize  storesize_Medium  \\\n",
       "2429       2.0        3.96          0.0     Large                 0   \n",
       "2430       5.0        9.90          0.0     Large                 0   \n",
       "2431       4.0        7.92          0.0     Large                 0   \n",
       "2432       6.0       11.88          0.0     Large                 0   \n",
       "2433       1.0        1.00          0.0     Large                 0   \n",
       "\n",
       "      storesize_Small  \n",
       "2429                0  \n",
       "2430                0  \n",
       "2431                0  \n",
       "2432                0  \n",
       "2433                0  "
      ]
     },
     "execution_count": 35,
     "metadata": {},
     "output_type": "execute_result"
    }
   ],
   "source": [
    "df2 = df2[['quantity','saleamount','avgdiscount','storesize','storesize_Medium','storesize_Small']]\n",
    "df2.head()\n",
    "\n",
    "\n"
   ]
  },
  {
   "cell_type": "code",
   "execution_count": 45,
   "metadata": {},
   "outputs": [
    {
     "name": "stdout",
     "output_type": "stream",
     "text": [
      "-2.171580385956231\n",
      "[ 0.96559965 -1.1295616   0.8813749   0.97033608]\n"
     ]
    },
    {
     "data": {
      "text/plain": [
       "<zip at 0x1d198485e08>"
      ]
     },
     "execution_count": 45,
     "metadata": {},
     "output_type": "execute_result"
    }
   ],
   "source": [
    "from sklearn.linear_model import LinearRegression\n",
    "\n",
    "# create X and y\n",
    "feature_cols = ['saleamount', 'avgdiscount', 'storesize_Medium', 'storesize_Small']\n",
    "X = df2[feature_cols]\n",
    "y = df2.quantity\n",
    "\n",
    "# instantiate, fit\n",
    "lm = LinearRegression()\n",
    "lm.fit(X, y)\n",
    "\n",
    "# print intercept and coefficients\n",
    "print (lm.intercept_)\n",
    "print (lm.coef_)\n",
    "\n",
    "zip(feature_cols,lm.coef_)\n",
    "\n",
    "\n",
    "\n"
   ]
  },
  {
   "cell_type": "code",
   "execution_count": 46,
   "metadata": {},
   "outputs": [
    {
     "data": {
      "text/plain": [
       "Intercept          7.588235\n",
       "storesize_Small   -3.550802\n",
       "dtype: float64"
      ]
     },
     "execution_count": 46,
     "metadata": {},
     "output_type": "execute_result"
    }
   ],
   "source": [
    "# this is the standard import if you're using \"formula notation\" (similar to R)\n",
    "import statsmodels.formula.api as smf\n",
    "\n",
    "# create a fitted model in one line\n",
    "lm = smf.ols(formula='quantity ~ storesize_Small', data=df2).fit()\n",
    "\n",
    "# print the coefficients\n",
    "lm.params"
   ]
  },
  {
   "cell_type": "code",
   "execution_count": 47,
   "metadata": {},
   "outputs": [
    {
     "data": {
      "text/plain": [
       "<matplotlib.axes._subplots.AxesSubplot at 0x1d198698128>"
      ]
     },
     "execution_count": 47,
     "metadata": {},
     "output_type": "execute_result"
    },
    {
     "data": {
      "image/png": "[encoded data removed]",
      "text/plain": [
       "<matplotlib.figure.Figure at 0x1d1984be828>"
      ]
     },
     "metadata": {},
     "output_type": "display_data"
    },
    {
     "data": {
      "image/png": "[encoded data removed]",
      "text/plain": [
       "<matplotlib.figure.Figure at 0x1d19840bac8>"
      ]
     },
     "metadata": {},
     "output_type": "display_data"
    }
   ],
   "source": [
    "fig, axs = plt.subplots(sharey=True)\n",
    "df2.plot(kind='scatter', x='storesize_Small', y='quantity', figsize=(16,8))"
   ]
  }
 ],
 "metadata": {
  "kernelspec": {
   "display_name": "Python 3",
   "language": "python",
   "name": "python3"
  },
  "language_info": {
   "codemirror_mode": {
    "name": "ipython",
    "version": 3
   },
   "file_extension": ".py",
   "mimetype": "text/x-python",
   "name": "python",
   "nbconvert_exporter": "python",
   "pygments_lexer": "ipython3",
   "version": "3.6.4"
  }
 },
 "nbformat": 4,
 "nbformat_minor": 2
}
