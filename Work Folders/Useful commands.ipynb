{
 "cells": [
  {
   "cell_type": "code",
   "execution_count": null,
   "metadata": {},
   "outputs": [],
   "source": [
    "# Find entries in a column\n",
    "df2 = df[df['subcategory'].isin(['Shampoo', 'Toothpaste', 'Cold'])]"
   ]
  },
  {
   "cell_type": "code",
   "execution_count": null,
   "metadata": {},
   "outputs": [],
   "source": [
    "# Rename columns\n",
    "dfupc = dfupc.rename(columns={'7dmovement': 'sevendmovement', '7davgretail': 'sevendavgretail'})"
   ]
  },
  {
   "cell_type": "code",
   "execution_count": null,
   "metadata": {},
   "outputs": [],
   "source": [
    "# Create new dataframe with specified columns\n",
    "df2 = df2[['subcategory','quantity','netcost']]"
   ]
  },
  {
   "cell_type": "code",
   "execution_count": null,
   "metadata": {},
   "outputs": [],
   "source": [
    "# Generate a scatterplot\n",
    "fig, axs = plt.subplots(sharey=True)\n",
    "df2.plot(kind='scatter', x='saleamount', y='quantity', figsize=(16,8))"
   ]
  },
  {
   "cell_type": "code",
   "execution_count": null,
   "metadata": {},
   "outputs": [],
   "source": [
    "#List the elements, number of times each element appears in a column,and datatype\n",
    "pd.Series(df['upc']).value_counts()"
   ]
  },
  {
   "cell_type": "code",
   "execution_count": null,
   "metadata": {},
   "outputs": [],
   "source": [
    "# create three dummy variables using get_dummies, then exclude the first dummy column\n",
    "storesize_dummies = pd.get_dummies(dfupc.storesize, prefix='storesize').iloc[:, 1:]\n",
    "\n",
    "# concatenate the dummy variable columns onto the original DataFrame (axis=0 means rows, axis=1 means columns)\n",
    "df2 = pd.concat([dfupc, storesize_dummies], axis=1)\n",
    "df2.head"
   ]
  },
  {
   "cell_type": "code",
   "execution_count": null,
   "metadata": {},
   "outputs": [],
   "source": [
    "# Linear regression in sklearn\n",
    "\n",
    "from sklearn.linear_model import LinearRegression\n",
    "\n",
    "# create X and y\n",
    "feature_cols = ['saleamount', 'avgdiscount', 'storesize_Medium', 'storesize_Small']\n",
    "X = df2[feature_cols]\n",
    "y = df2.quantity\n",
    "\n",
    "# instantiate, fit\n",
    "lm = LinearRegression()\n",
    "lm.fit(X, y)\n",
    "\n",
    "# print intercept and coefficients\n",
    "print (lm.intercept_)\n",
    "print (lm.coef_)\n",
    "\n",
    "zip(feature_cols,lm.coef_)"
   ]
  },
  {
   "cell_type": "code",
   "execution_count": null,
   "metadata": {},
   "outputs": [],
   "source": [
    "# find and remove entry with NaN for seven day average retail\n",
    "dfupc[dfupc['sevendavgretail'].isna()]"
   ]
  },
  {
   "cell_type": "code",
   "execution_count": null,
   "metadata": {},
   "outputs": [],
   "source": [
    "dfupc= dfupc.dropna(subset=['sevendavgretail'])"
   ]
  },
  {
   "cell_type": "code",
   "execution_count": null,
   "metadata": {},
   "outputs": [],
   "source": [
    "# create a fitted model with three features\n",
    "lm = smf.ols(formula='sevendmovement ~ mfsfilenumber + fyweekendingdateint + sevendsaleamount', data=df3).fit()\n",
    "\n",
    "# print the coefficients\n",
    "lm.params"
   ]
  },
  {
   "cell_type": "code",
   "execution_count": null,
   "metadata": {},
   "outputs": [],
   "source": [
    "# Summary statistics for linear model\n",
    "lm.summary()"
   ]
  },
  {
   "cell_type": "code",
   "execution_count": null,
   "metadata": {},
   "outputs": [],
   "source": [
    "# Convert string to datetime\n",
    "from datetime import datetime\n",
    "s = \"20170205\"\n",
    "# you could also import date instead of datetime and use that.\n",
    "date = datetime(year=int(s[0:4]), month=int(s[4:6]), day=int(s[6:8]))\n",
    "print (date)\n",
    "type(date)"
   ]
  },
  {
   "cell_type": "code",
   "execution_count": null,
   "metadata": {},
   "outputs": [],
   "source": [
    "# Create a list from a column in a dataframe\n",
    "datelist = dfupc['fyweekendingdateint'].tolist()"
   ]
  },
  {
   "cell_type": "code",
   "execution_count": null,
   "metadata": {},
   "outputs": [],
   "source": [
    "# Convert a list of string data to datetime data\n",
    "datelist2 = []\n",
    "from datetime import datetime\n",
    "for num in range (0,len(datelist)):\n",
    "    datelist2.append (datetime(year=int(str(datelist[num])[0:4]), month=int(str(datelist[num])[4:6]), day=int(str(datelist[num])[6:8])))\n",
    "print (datelist2)\n",
    "    "
   ]
  },
  {
   "cell_type": "code",
   "execution_count": null,
   "metadata": {},
   "outputs": [],
   "source": [
    "# Create and name a column from a list\n",
    "dfupc['datelist2']=datelist2"
   ]
  },
  {
   "cell_type": "code",
   "execution_count": null,
   "metadata": {},
   "outputs": [],
   "source": [
    "# Pickle a large dataframe to save time loading it each time\n",
    "import pickle \n",
    "pickle.dump(df, open('training data','wb'))\n",
    "df = pickle.load(open('training data','rb'))"
   ]
  },
  {
   "cell_type": "code",
   "execution_count": null,
   "metadata": {},
   "outputs": [],
   "source": [
    "# Open pickled file as a dataframe\n",
    "df = pickle.load(open('training data','rb'))"
   ]
  },
  {
   "cell_type": "code",
   "execution_count": null,
   "metadata": {},
   "outputs": [],
   "source": [
    "#make a list of unique values from column\n",
    "uniqueDeptList = df.deptnumber.unique().tolist()"
   ]
  }
 ],
 "metadata": {
  "kernelspec": {
   "display_name": "Python 3",
   "language": "python",
   "name": "python3"
  },
  "language_info": {
   "codemirror_mode": {
    "name": "ipython",
    "version": 3
   },
   "file_extension": ".py",
   "mimetype": "text/x-python",
   "name": "python",
   "nbconvert_exporter": "python",
   "pygments_lexer": "ipython3",
   "version": "3.6.4"
  }
 },
 "nbformat": 4,
 "nbformat_minor": 2
}
