{
 "cells": [
  {
   "cell_type": "code",
   "execution_count": 1,
   "metadata": {},
   "outputs": [
    {
     "ename": "ModuleNotFoundError",
     "evalue": "No module named '__main__.GetAlertData'; '__main__' is not a package",
     "output_type": "error",
     "traceback": [
      "\u001b[1;31m---------------------------------------------------------------------------\u001b[0m",
      "\u001b[1;31mModuleNotFoundError\u001b[0m                       Traceback (most recent call last)",
      "\u001b[1;32m<ipython-input-1-8bd4211a55f6>\u001b[0m in \u001b[0;36m<module>\u001b[1;34m()\u001b[0m\n\u001b[0;32m      2\u001b[0m \u001b[1;32mfrom\u001b[0m \u001b[0mIPython\u001b[0m\u001b[1;33m.\u001b[0m\u001b[0mcore\u001b[0m\u001b[1;33m.\u001b[0m\u001b[0mmagics\u001b[0m\u001b[1;33m.\u001b[0m\u001b[0mexecution\u001b[0m \u001b[1;32mimport\u001b[0m \u001b[0m_format_time\u001b[0m\u001b[1;33m\u001b[0m\u001b[0m\n\u001b[0;32m      3\u001b[0m \u001b[1;33m\u001b[0m\u001b[0m\n\u001b[1;32m----> 4\u001b[1;33m \u001b[1;32mfrom\u001b[0m \u001b[1;33m.\u001b[0m\u001b[0mGetAlertData\u001b[0m \u001b[1;32mimport\u001b[0m \u001b[1;33m(\u001b[0m\u001b[0msetupCustomLogger\u001b[0m\u001b[1;33m,\u001b[0m \u001b[0mrunQueries\u001b[0m\u001b[1;33m,\u001b[0m \u001b[0mcreateDFs\u001b[0m\u001b[1;33m)\u001b[0m\u001b[1;33m\u001b[0m\u001b[0m\n\u001b[0m\u001b[0;32m      5\u001b[0m \u001b[1;32mfrom\u001b[0m \u001b[1;33m.\u001b[0m\u001b[0mIdentifyOutliers\u001b[0m \u001b[1;32mimport\u001b[0m \u001b[1;33m(\u001b[0m\u001b[0mmergeDFs\u001b[0m\u001b[1;33m,\u001b[0m  \u001b[0mfindOutliers\u001b[0m\u001b[1;33m,\u001b[0m \u001b[0mcreateOutlierList\u001b[0m\u001b[1;33m)\u001b[0m\u001b[1;33m\u001b[0m\u001b[0m\n\u001b[0;32m      6\u001b[0m \u001b[1;32mfrom\u001b[0m \u001b[1;33m.\u001b[0m\u001b[0mSaveAndSendAlerts\u001b[0m \u001b[1;32mimport\u001b[0m \u001b[1;33m(\u001b[0m\u001b[0msaveOutlierFiles\u001b[0m\u001b[1;33m,\u001b[0m \u001b[0mwriteToTable\u001b[0m\u001b[1;33m)\u001b[0m\u001b[1;33m\u001b[0m\u001b[0m\n",
      "\u001b[1;31mModuleNotFoundError\u001b[0m: No module named '__main__.GetAlertData'; '__main__' is not a package"
     ]
    }
   ],
   "source": [
    "from time import time\n",
    "from IPython.core.magics.execution import _format_time\n",
    "\n",
    "from .GetAlertData import (setupCustomLogger, runQueries, createDFs)\n",
    "from .IdentifyOutliers import (mergeDFs,  findOutliers, createOutlierList)\n",
    "from .SaveAndSendAlerts import (saveOutlierFiles, writeToTable)"
   ]
  },
  {
   "cell_type": "code",
   "execution_count": null,
   "metadata": {},
   "outputs": [],
   "source": [
    "def main():\n",
    "    logger = setupCustomLogger('AlertInfo')\n",
    "    t2 = time()\n",
    "    ##############################\n",
    "    #     Return DataFrames      #\n",
    "    ##############################\n",
    "    total_sales_mvmt, market_sales_mvmt, department_sales_mvmt, mkt_dep_sales_mvmt,\\\n",
    "        total_bskt, market_bskt, department_bskt, mkt_dep_bskt = runQueries()\n",
    "\n",
    "    metrics = {'sales':'129c79f5c1b60816d05d', 'movement':'bdc9c8b02d34c40de247', 'baskets':'faff2bd3202ed6cb2903'}\n",
    "    df_dict = createDFs(mkt_dep_sales_mvmt, market_sales_mvmt, department_sales_mvmt, total_sales_mvmt, \n",
    "                          mkt_dep_bskt, market_bskt, department_bskt, total_bskt, metrics)\n",
    "\n",
    "    ##############################\n",
    "    #    Return outlier lists    #\n",
    "    ##############################\n",
    "    merged_dict = mergeDFs(df_dict)\n",
    "\n",
    "    outlier_dict = findOutliers(merged_dict)\n",
    "    metric_alerts, metric_dfs = createOutlierList(outlier_dict)\n",
    "\n",
    "    ####################################\n",
    "    # Save files and insert into table #\n",
    "    ####################################\n",
    "    saveOutlierFiles(metric_dfs)\n",
    "    writeToTable(metric_dfs)\n",
    "\n",
    "    logger.info('Entire alert script took {}'.format(_format_time(time() - t2))) "
   ]
  }
 ],
 "metadata": {
  "kernelspec": {
   "display_name": "Python 3",
   "language": "python",
   "name": "python3"
  },
  "language_info": {
   "codemirror_mode": {
    "name": "ipython",
    "version": 3
   },
   "file_extension": ".py",
   "mimetype": "text/x-python",
   "name": "python",
   "nbconvert_exporter": "python",
   "pygments_lexer": "ipython3",
   "version": "3.6.4"
  }
 },
 "nbformat": 4,
 "nbformat_minor": 2
}
