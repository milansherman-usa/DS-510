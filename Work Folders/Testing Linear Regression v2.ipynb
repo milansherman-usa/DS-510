{
 "cells": [
  {
   "cell_type": "code",
   "execution_count": 2,
   "metadata": {},
   "outputs": [
    {
     "data": {
      "text/html": [
       "<div>\n",
       "<style scoped>\n",
       "    .dataframe tbody tr th:only-of-type {\n",
       "        vertical-align: middle;\n",
       "    }\n",
       "\n",
       "    .dataframe tbody tr th {\n",
       "        vertical-align: top;\n",
       "    }\n",
       "\n",
       "    .dataframe thead th {\n",
       "        text-align: right;\n",
       "    }\n",
       "</style>\n",
       "<table border=\"1\" class=\"dataframe\">\n",
       "  <thead>\n",
       "    <tr style=\"text-align: right;\">\n",
       "      <th></th>\n",
       "      <th>Unnamed: 0</th>\n",
       "      <th>datedimensionid</th>\n",
       "      <th>storeitemdimensionid</th>\n",
       "      <th>locationdimensionid</th>\n",
       "      <th>actualdate</th>\n",
       "      <th>upc</th>\n",
       "      <th>mfsfilenumber</th>\n",
       "      <th>storenumber</th>\n",
       "      <th>fyweekendingdateint</th>\n",
       "      <th>category</th>\n",
       "      <th>...</th>\n",
       "      <th>THH68_Ring4</th>\n",
       "      <th>THH68_Ring5</th>\n",
       "      <th>ID</th>\n",
       "      <th>NAME</th>\n",
       "      <th>CompetitorsNearbyCount</th>\n",
       "      <th>CompetitorsAvgDriveTime</th>\n",
       "      <th>CompetitorsMinDriveTime</th>\n",
       "      <th>WalmartsNearbyCount</th>\n",
       "      <th>WalmartAvgDriveTime</th>\n",
       "      <th>WalmartMinDriveTime</th>\n",
       "    </tr>\n",
       "  </thead>\n",
       "  <tbody>\n",
       "    <tr>\n",
       "      <th>0</th>\n",
       "      <td>0</td>\n",
       "      <td>20170205</td>\n",
       "      <td>113546</td>\n",
       "      <td>355</td>\n",
       "      <td>2017-02-05</td>\n",
       "      <td>306030535500</td>\n",
       "      <td>1872</td>\n",
       "      <td>1872</td>\n",
       "      <td>20170205</td>\n",
       "      <td>First Aid</td>\n",
       "      <td>...</td>\n",
       "      <td>0.0</td>\n",
       "      <td>0.0</td>\n",
       "      <td>1872.0</td>\n",
       "      <td>Waverly</td>\n",
       "      <td>13</td>\n",
       "      <td>21.084029</td>\n",
       "      <td>3.033353</td>\n",
       "      <td>3.0</td>\n",
       "      <td>17.721832</td>\n",
       "      <td>3.033353</td>\n",
       "    </tr>\n",
       "    <tr>\n",
       "      <th>1</th>\n",
       "      <td>1</td>\n",
       "      <td>20170219</td>\n",
       "      <td>113546</td>\n",
       "      <td>355</td>\n",
       "      <td>2017-02-19</td>\n",
       "      <td>306030535500</td>\n",
       "      <td>1872</td>\n",
       "      <td>1872</td>\n",
       "      <td>20170219</td>\n",
       "      <td>First Aid</td>\n",
       "      <td>...</td>\n",
       "      <td>0.0</td>\n",
       "      <td>0.0</td>\n",
       "      <td>1872.0</td>\n",
       "      <td>Waverly</td>\n",
       "      <td>13</td>\n",
       "      <td>21.084029</td>\n",
       "      <td>3.033353</td>\n",
       "      <td>3.0</td>\n",
       "      <td>17.721832</td>\n",
       "      <td>3.033353</td>\n",
       "    </tr>\n",
       "    <tr>\n",
       "      <th>2</th>\n",
       "      <td>2</td>\n",
       "      <td>20170312</td>\n",
       "      <td>113546</td>\n",
       "      <td>355</td>\n",
       "      <td>2017-03-12</td>\n",
       "      <td>306030535500</td>\n",
       "      <td>1872</td>\n",
       "      <td>1872</td>\n",
       "      <td>20170312</td>\n",
       "      <td>First Aid</td>\n",
       "      <td>...</td>\n",
       "      <td>0.0</td>\n",
       "      <td>0.0</td>\n",
       "      <td>1872.0</td>\n",
       "      <td>Waverly</td>\n",
       "      <td>13</td>\n",
       "      <td>21.084029</td>\n",
       "      <td>3.033353</td>\n",
       "      <td>3.0</td>\n",
       "      <td>17.721832</td>\n",
       "      <td>3.033353</td>\n",
       "    </tr>\n",
       "    <tr>\n",
       "      <th>3</th>\n",
       "      <td>3</td>\n",
       "      <td>20170430</td>\n",
       "      <td>113546</td>\n",
       "      <td>355</td>\n",
       "      <td>2017-04-30</td>\n",
       "      <td>306030535500</td>\n",
       "      <td>1872</td>\n",
       "      <td>1872</td>\n",
       "      <td>20170430</td>\n",
       "      <td>First Aid</td>\n",
       "      <td>...</td>\n",
       "      <td>0.0</td>\n",
       "      <td>0.0</td>\n",
       "      <td>1872.0</td>\n",
       "      <td>Waverly</td>\n",
       "      <td>13</td>\n",
       "      <td>21.084029</td>\n",
       "      <td>3.033353</td>\n",
       "      <td>3.0</td>\n",
       "      <td>17.721832</td>\n",
       "      <td>3.033353</td>\n",
       "    </tr>\n",
       "    <tr>\n",
       "      <th>4</th>\n",
       "      <td>4</td>\n",
       "      <td>20170507</td>\n",
       "      <td>113546</td>\n",
       "      <td>355</td>\n",
       "      <td>2017-05-07</td>\n",
       "      <td>306030535500</td>\n",
       "      <td>1872</td>\n",
       "      <td>1872</td>\n",
       "      <td>20170507</td>\n",
       "      <td>First Aid</td>\n",
       "      <td>...</td>\n",
       "      <td>0.0</td>\n",
       "      <td>0.0</td>\n",
       "      <td>1872.0</td>\n",
       "      <td>Waverly</td>\n",
       "      <td>13</td>\n",
       "      <td>21.084029</td>\n",
       "      <td>3.033353</td>\n",
       "      <td>3.0</td>\n",
       "      <td>17.721832</td>\n",
       "      <td>3.033353</td>\n",
       "    </tr>\n",
       "  </tbody>\n",
       "</table>\n",
       "<p>5 rows × 634 columns</p>\n",
       "</div>"
      ],
      "text/plain": [
       "   Unnamed: 0  datedimensionid  storeitemdimensionid  locationdimensionid  \\\n",
       "0           0         20170205                113546                  355   \n",
       "1           1         20170219                113546                  355   \n",
       "2           2         20170312                113546                  355   \n",
       "3           3         20170430                113546                  355   \n",
       "4           4         20170507                113546                  355   \n",
       "\n",
       "   actualdate           upc  mfsfilenumber  storenumber  fyweekendingdateint  \\\n",
       "0  2017-02-05  306030535500           1872         1872             20170205   \n",
       "1  2017-02-19  306030535500           1872         1872             20170219   \n",
       "2  2017-03-12  306030535500           1872         1872             20170312   \n",
       "3  2017-04-30  306030535500           1872         1872             20170430   \n",
       "4  2017-05-07  306030535500           1872         1872             20170507   \n",
       "\n",
       "    category         ...         THH68_Ring4 THH68_Ring5      ID     NAME  \\\n",
       "0  First Aid         ...                 0.0         0.0  1872.0  Waverly   \n",
       "1  First Aid         ...                 0.0         0.0  1872.0  Waverly   \n",
       "2  First Aid         ...                 0.0         0.0  1872.0  Waverly   \n",
       "3  First Aid         ...                 0.0         0.0  1872.0  Waverly   \n",
       "4  First Aid         ...                 0.0         0.0  1872.0  Waverly   \n",
       "\n",
       "  CompetitorsNearbyCount CompetitorsAvgDriveTime CompetitorsMinDriveTime  \\\n",
       "0                     13               21.084029                3.033353   \n",
       "1                     13               21.084029                3.033353   \n",
       "2                     13               21.084029                3.033353   \n",
       "3                     13               21.084029                3.033353   \n",
       "4                     13               21.084029                3.033353   \n",
       "\n",
       "  WalmartsNearbyCount WalmartAvgDriveTime WalmartMinDriveTime  \n",
       "0                 3.0           17.721832            3.033353  \n",
       "1                 3.0           17.721832            3.033353  \n",
       "2                 3.0           17.721832            3.033353  \n",
       "3                 3.0           17.721832            3.033353  \n",
       "4                 3.0           17.721832            3.033353  \n",
       "\n",
       "[5 rows x 634 columns]"
      ]
     },
     "execution_count": 2,
     "metadata": {},
     "output_type": "execute_result"
    }
   ],
   "source": [
    "import pandas as pd\n",
    "import matplotlib.pyplot as plt\n",
    "%matplotlib inline\n",
    "df = pd.read_csv('Q:/Business Analytics/Data Science/Price Elasticity/trainingdata.csv')\n",
    "df.head()"
   ]
  },
  {
   "cell_type": "code",
   "execution_count": 3,
   "metadata": {},
   "outputs": [
    {
     "data": {
      "text/plain": [
       "(40321, 634)"
      ]
     },
     "execution_count": 3,
     "metadata": {},
     "output_type": "execute_result"
    }
   ],
   "source": [
    "df.shape"
   ]
  },
  {
   "cell_type": "code",
   "execution_count": 9,
   "metadata": {},
   "outputs": [
    {
     "data": {
      "text/plain": [
       "(4958, 634)"
      ]
     },
     "execution_count": 9,
     "metadata": {},
     "output_type": "execute_result"
    }
   ],
   "source": [
    "df2 = df[df['subcategory'].isin(['Shampoo', 'Toothpaste', 'Cold'])]\n",
    "df2.shape\n"
   ]
  },
  {
   "cell_type": "code",
   "execution_count": 11,
   "metadata": {},
   "outputs": [
    {
     "data": {
      "text/plain": [
       "(4958, 3)"
      ]
     },
     "execution_count": 11,
     "metadata": {},
     "output_type": "execute_result"
    }
   ],
   "source": [
    "df2 = df2[['subcategory','quantity','netcost']]\n",
    "df2.shape\n"
   ]
  },
  {
   "cell_type": "code",
   "execution_count": 13,
   "metadata": {},
   "outputs": [
    {
     "data": {
      "text/plain": [
       "(1456, 3)"
      ]
     },
     "execution_count": 13,
     "metadata": {},
     "output_type": "execute_result"
    }
   ],
   "source": [
    "df3 = df2[df2['subcategory'].isin(['Shampoo'])]\n",
    "df3.shape\n"
   ]
  },
  {
   "cell_type": "code",
   "execution_count": 19,
   "metadata": {},
   "outputs": [
    {
     "data": {
      "text/plain": [
       "Intercept    0.422822\n",
       "netcost      0.233427\n",
       "dtype: float64"
      ]
     },
     "execution_count": 19,
     "metadata": {},
     "output_type": "execute_result"
    }
   ],
   "source": [
    "# this is the standard import if you're using \"formula notation\" (similar to R)\n",
    "import statsmodels.formula.api as smf\n",
    "\n",
    "# create a fitted model in one line\n",
    "lm = smf.ols(formula='quantity ~ netcost', data=df3).fit()\n",
    "\n",
    "# print the coefficients\n",
    "lm.params"
   ]
  },
  {
   "cell_type": "code",
   "execution_count": 20,
   "metadata": {},
   "outputs": [
    {
     "data": {
      "text/html": [
       "<div>\n",
       "<style scoped>\n",
       "    .dataframe tbody tr th:only-of-type {\n",
       "        vertical-align: middle;\n",
       "    }\n",
       "\n",
       "    .dataframe tbody tr th {\n",
       "        vertical-align: top;\n",
       "    }\n",
       "\n",
       "    .dataframe thead th {\n",
       "        text-align: right;\n",
       "    }\n",
       "</style>\n",
       "<table border=\"1\" class=\"dataframe\">\n",
       "  <thead>\n",
       "    <tr style=\"text-align: right;\">\n",
       "      <th></th>\n",
       "      <th>netcost</th>\n",
       "    </tr>\n",
       "  </thead>\n",
       "  <tbody>\n",
       "    <tr>\n",
       "      <th>0</th>\n",
       "      <td>0.000</td>\n",
       "    </tr>\n",
       "    <tr>\n",
       "      <th>1</th>\n",
       "      <td>26.752</td>\n",
       "    </tr>\n",
       "  </tbody>\n",
       "</table>\n",
       "</div>"
      ],
      "text/plain": [
       "   netcost\n",
       "0    0.000\n",
       "1   26.752"
      ]
     },
     "execution_count": 20,
     "metadata": {},
     "output_type": "execute_result"
    }
   ],
   "source": [
    "# create a DataFrame with the minimum and maximum values of TV\n",
    "X_new = pd.DataFrame({'netcost': [df3.netcost.min(), df3.netcost.max()]})\n",
    "X_new.head()\n"
   ]
  },
  {
   "cell_type": "code",
   "execution_count": 21,
   "metadata": {},
   "outputs": [
    {
     "data": {
      "text/plain": [
       "0    0.422822\n",
       "1    6.667469\n",
       "dtype: float64"
      ]
     },
     "execution_count": 21,
     "metadata": {},
     "output_type": "execute_result"
    }
   ],
   "source": [
    "preds = lm.predict (X_new)\n",
    "preds"
   ]
  },
  {
   "cell_type": "code",
   "execution_count": 23,
   "metadata": {},
   "outputs": [
    {
     "data": {
      "text/plain": [
       "[<matplotlib.lines.Line2D at 0x20d1d6a2c18>]"
      ]
     },
     "execution_count": 23,
     "metadata": {},
     "output_type": "execute_result"
    },
    {
     "data": {
      "image/png": "[encoded data removed]",
      "text/plain": [
       "<matplotlib.figure.Figure at 0x20d1d6a2d68>"
      ]
     },
     "metadata": {},
     "output_type": "display_data"
    }
   ],
   "source": [
    "df3.plot(kind='scatter', x='netcost', y='quantity')\n",
    "plt.plot(X_new, preds, c='red', linewidth=2)"
   ]
  },
  {
   "cell_type": "code",
   "execution_count": 17,
   "metadata": {},
   "outputs": [
    {
     "data": {
      "text/plain": [
       "<matplotlib.axes._subplots.AxesSubplot at 0x20d1c44dac8>"
      ]
     },
     "execution_count": 17,
     "metadata": {},
     "output_type": "execute_result"
    },
    {
     "data": {
      "image/png": "[encoded data removed]",
      "text/plain": [
       "<matplotlib.figure.Figure at 0x20d1c42bf98>"
      ]
     },
     "metadata": {},
     "output_type": "display_data"
    }
   ],
   "source": [
    "fig, axs = plt.subplots(1, 3, sharey=True)\n",
    "df3.plot(kind='scatter', x='netcost', y='quantity', ax=axs[0], figsize=(16, 8))"
   ]
  },
  {
   "cell_type": "code",
   "execution_count": 24,
   "metadata": {},
   "outputs": [
    {
     "data": {
      "text/html": [
       "<div>\n",
       "<style scoped>\n",
       "    .dataframe tbody tr th:only-of-type {\n",
       "        vertical-align: middle;\n",
       "    }\n",
       "\n",
       "    .dataframe tbody tr th {\n",
       "        vertical-align: top;\n",
       "    }\n",
       "\n",
       "    .dataframe thead th {\n",
       "        text-align: right;\n",
       "    }\n",
       "</style>\n",
       "<table border=\"1\" class=\"dataframe\">\n",
       "  <thead>\n",
       "    <tr style=\"text-align: right;\">\n",
       "      <th></th>\n",
       "      <th>0</th>\n",
       "      <th>1</th>\n",
       "    </tr>\n",
       "  </thead>\n",
       "  <tbody>\n",
       "    <tr>\n",
       "      <th>Intercept</th>\n",
       "      <td>0.336238</td>\n",
       "      <td>0.509406</td>\n",
       "    </tr>\n",
       "    <tr>\n",
       "      <th>netcost</th>\n",
       "      <td>0.218850</td>\n",
       "      <td>0.248004</td>\n",
       "    </tr>\n",
       "  </tbody>\n",
       "</table>\n",
       "</div>"
      ],
      "text/plain": [
       "                  0         1\n",
       "Intercept  0.336238  0.509406\n",
       "netcost    0.218850  0.248004"
      ]
     },
     "execution_count": 24,
     "metadata": {},
     "output_type": "execute_result"
    }
   ],
   "source": [
    "lm.conf_int()"
   ]
  },
  {
   "cell_type": "code",
   "execution_count": 2,
   "metadata": {},
   "outputs": [
    {
     "ename": "NameError",
     "evalue": "name 'lm' is not defined",
     "output_type": "error",
     "traceback": [
      "\u001b[1;31m---------------------------------------------------------------------------\u001b[0m",
      "\u001b[1;31mNameError\u001b[0m                                 Traceback (most recent call last)",
      "\u001b[1;32m<ipython-input-2-05ea24a0de35>\u001b[0m in \u001b[0;36m<module>\u001b[1;34m()\u001b[0m\n\u001b[1;32m----> 1\u001b[1;33m \u001b[0mlm\u001b[0m\u001b[1;33m.\u001b[0m\u001b[0mpvalues\u001b[0m\u001b[1;33m\u001b[0m\u001b[0m\n\u001b[0m",
      "\u001b[1;31mNameError\u001b[0m: name 'lm' is not defined"
     ]
    }
   ],
   "source": [
    "lm.pvalues"
   ]
  },
  {
   "cell_type": "code",
   "execution_count": 1,
   "metadata": {},
   "outputs": [
    {
     "ename": "NameError",
     "evalue": "name 'lm' is not defined",
     "output_type": "error",
     "traceback": [
      "\u001b[1;31m---------------------------------------------------------------------------\u001b[0m",
      "\u001b[1;31mNameError\u001b[0m                                 Traceback (most recent call last)",
      "\u001b[1;32m<ipython-input-1-1f495b69e67f>\u001b[0m in \u001b[0;36m<module>\u001b[1;34m()\u001b[0m\n\u001b[1;32m----> 1\u001b[1;33m \u001b[0mlm\u001b[0m\u001b[1;33m.\u001b[0m\u001b[0mrsquared\u001b[0m\u001b[1;33m\u001b[0m\u001b[0m\n\u001b[0m",
      "\u001b[1;31mNameError\u001b[0m: name 'lm' is not defined"
     ]
    }
   ],
   "source": [
    "lm.rsquared"
   ]
  },
  {
   "cell_type": "markdown",
   "metadata": {},
   "source": []
  }
 ],
 "metadata": {
  "kernelspec": {
   "display_name": "Python 3",
   "language": "python",
   "name": "python3"
  },
  "language_info": {
   "codemirror_mode": {
    "name": "ipython",
    "version": 3
   },
   "file_extension": ".py",
   "mimetype": "text/x-python",
   "name": "python",
   "nbconvert_exporter": "python",
   "pygments_lexer": "ipython3",
   "version": "3.6.4"
  }
 },
 "nbformat": 4,
 "nbformat_minor": 2
}
