{
 "cells": [
  {
   "cell_type": "code",
   "execution_count": 1,
   "metadata": {},
   "outputs": [],
   "source": [
    "import pandas as pd\n",
    "import matplotlib.pyplot as plt\n",
    "from sklearn.linear_model import LinearRegression\n",
    "import statsmodels.formula.api as smf\n",
    "%matplotlib inline\n",
    "df = pd.read_csv(r'\\\\hvcorp1\\sharedir\\\\public\\\\Data Analytics\\\\Jedi Order\\\\Price Optimization\\\\cleaned_training_data.csv')"
   ]
  },
  {
   "cell_type": "code",
   "execution_count": 2,
   "metadata": {},
   "outputs": [],
   "source": [
    "df.to_csv(r'\\\\hvcorp1\\sharedir\\\\public\\\\Data Analytics\\\\Jedi Order\\\\Price Optimization\\\\cleaned_training_data.csv',index=False)"
   ]
  },
  {
   "cell_type": "raw",
   "metadata": {},
   "source": [
    "to_drop = ['storeitemdimensionid','datedimensionid','NoShopStyle','Tuesday','Wednesday','Monday','Thursday','Friday','Saturday','Sunday','THH01_Ring2', 'THH01_Ring3',\n",
    "       'NoFactsSegment', 'Primary', 'Secondary', 'Tertiary','Basic Budgeters', 'Busy Families', 'Confident Cooks', 'quantity'\n",
    "       'Diet Balancers', 'Fresh and Healthy', 'Grab & Go','Organic & Premium','THH01_Ring4','THH01_Ring5', '7dquantity',\n",
    "       'THH02_Ring1', 'THH02_Ring2', 'THH02_Ring3', 'THH02_Ring4','THH02_Ring5', 'THH03_Ring1', 'THH03_Ring2', 'THH03_Ring3',\n",
    "       'THH03_Ring4', 'THH03_Ring5', 'THH04_Ring1', 'THH04_Ring2','THH04_Ring3', 'THH04_Ring4', 'THH04_Ring5', 'THH05_Ring1',\n",
    "       'THH05_Ring2', 'THH05_Ring3', 'THH05_Ring4', 'THH05_Ring5','THH06_Ring1', 'THH06_Ring2', 'THH06_Ring3', 'THH06_Ring4',\n",
    "       'THH06_Ring5', 'THH07_Ring1', 'THH07_Ring2', 'THH07_Ring3','THH07_Ring4', 'THH07_Ring5', 'THH08_Ring1', 'THH08_Ring2',\n",
    "       'THH08_Ring3', 'THH08_Ring4', 'THH08_Ring5', 'THH09_Ring1','THH09_Ring2', 'THH09_Ring3', 'THH09_Ring4', 'THH09_Ring5',\n",
    "       'THH10_Ring1', 'THH10_Ring2', 'THH10_Ring3', 'THH10_Ring4','THH10_Ring5', 'THH11_Ring1', 'THH11_Ring2', 'THH11_Ring3',\n",
    "       'THH11_Ring4', 'THH11_Ring5', 'THH12_Ring1', 'THH12_Ring2','THH12_Ring3', 'THH12_Ring4', 'THH12_Ring5', 'THH13_Ring1',\n",
    "       'THH13_Ring2', 'THH13_Ring3', 'THH13_Ring4', 'THH13_Ring5','THH14_Ring1', 'THH14_Ring2', 'THH14_Ring3', 'THH14_Ring4',\n",
    "       'THH14_Ring5', 'THH15_Ring1', 'THH15_Ring2', 'THH15_Ring3','THH15_Ring4', 'THH15_Ring5', 'THH16_Ring1', 'THH16_Ring2',\n",
    "       'THH16_Ring3', 'THH16_Ring4', 'THH16_Ring5', 'THH17_Ring1','THH17_Ring2', 'THH17_Ring3', 'THH17_Ring4', 'THH17_Ring5',\n",
    "       'THH18_Ring1', 'THH18_Ring2', 'THH18_Ring3', 'THH18_Ring4','THH18_Ring5', 'THH19_Ring1', 'THH19_Ring2', 'THH19_Ring3',\n",
    "       'THH19_Ring4', 'THH19_Ring5', 'THH20_Ring1', 'THH20_Ring2','THH20_Ring3', 'THH20_Ring4', 'THH20_Ring5', 'THH21_Ring1',\n",
    "       'THH21_Ring2', 'THH21_Ring3', 'THH21_Ring4', 'THH21_Ring5','THH22_Ring1', 'THH22_Ring2', 'THH22_Ring3', 'THH22_Ring4',\n",
    "       'THH22_Ring5', 'THH23_Ring1', 'THH23_Ring2', 'THH23_Ring3','THH23_Ring4', 'THH23_Ring5', 'THH24_Ring1', 'THH24_Ring2',\n",
    "       'THH24_Ring3', 'THH24_Ring4', 'THH24_Ring5', 'THH25_Ring1','THH25_Ring2', 'THH25_Ring3', 'THH25_Ring4', 'THH25_Ring5',\n",
    "       'THH26_Ring1', 'THH26_Ring2', 'THH26_Ring3', 'THH26_Ring4','THH26_Ring5', 'THH27_Ring1', 'THH27_Ring2', 'THH27_Ring3',\n",
    "       'THH27_Ring4', 'THH27_Ring5', 'THH28_Ring1', 'THH28_Ring2','THH28_Ring3', 'THH28_Ring4', 'THH28_Ring5', 'THH29_Ring1',\n",
    "       'THH29_Ring2', 'THH29_Ring3', 'THH29_Ring4', 'THH29_Ring5','THH30_Ring1', 'THH30_Ring2', 'THH30_Ring3', 'THH30_Ring4',\n",
    "       'THH30_Ring5', 'THH31_Ring1', 'THH31_Ring2', 'THH31_Ring3','THH31_Ring4', 'THH31_Ring5', 'THH32_Ring1', 'THH32_Ring2',\n",
    "       'THH32_Ring3', 'THH32_Ring4', 'THH32_Ring5', 'THH33_Ring1','THH33_Ring2', 'THH33_Ring3', 'THH33_Ring4', 'THH33_Ring5',\n",
    "       'THH34_Ring1', 'THH34_Ring2', 'THH34_Ring3', 'THH34_Ring4','THH34_Ring5', 'THH35_Ring1', 'THH35_Ring2', 'THH35_Ring3',\n",
    "       'THH35_Ring4', 'THH35_Ring5', 'THH36_Ring1', 'THH36_Ring2','THH36_Ring3', 'THH36_Ring4', 'THH36_Ring5', 'THH37_Ring1',\n",
    "       'THH37_Ring2', 'THH37_Ring3', 'THH37_Ring4', 'THH37_Ring5','THH38_Ring1', 'THH38_Ring2', 'THH38_Ring3', 'THH38_Ring4',\n",
    "       'THH38_Ring5', 'THH39_Ring1', 'THH39_Ring2', 'THH39_Ring3','THH39_Ring4', 'THH39_Ring5', 'THH40_Ring1', 'THH40_Ring2',\n",
    "       'THH40_Ring3', 'THH40_Ring4', 'THH40_Ring5', 'THH41_Ring1','THH41_Ring2', 'THH41_Ring3', 'THH41_Ring4', 'THH41_Ring5',\n",
    "       'THH42_Ring1', 'THH42_Ring2', 'THH42_Ring3', 'THH42_Ring4','THH42_Ring5', 'THH43_Ring1', 'THH43_Ring2', 'THH43_Ring3',\n",
    "       'THH43_Ring4', 'THH43_Ring5', 'THH44_Ring1', 'THH44_Ring2','THH44_Ring3', 'THH44_Ring4', 'THH44_Ring5', 'THH45_Ring1',\n",
    "       'THH45_Ring2', 'THH45_Ring3', 'THH45_Ring4', 'THH45_Ring5','THH46_Ring1', 'THH46_Ring2', 'THH46_Ring3', 'THH46_Ring4',\n",
    "       'THH46_Ring5', 'THH47_Ring1', 'THH47_Ring2', 'THH47_Ring3','THH47_Ring4', 'THH47_Ring5', 'THH48_Ring1', 'THH48_Ring2',\n",
    "       'THH48_Ring3', 'THH48_Ring4', 'THH48_Ring5', 'THH49_Ring1','THH49_Ring2', 'THH49_Ring3', 'THH49_Ring4', 'THH49_Ring5',\n",
    "       'THH50_Ring1', 'THH50_Ring2', 'THH50_Ring3', 'THH50_Ring4','THH50_Ring5', 'THH51_Ring1', 'THH51_Ring2', 'THH51_Ring3',\n",
    "       'THH51_Ring4', 'THH51_Ring5', 'THH52_Ring1', 'THH52_Ring2','THH52_Ring3', 'THH52_Ring4', 'THH52_Ring5', 'THH53_Ring1',\n",
    "       'THH53_Ring2', 'THH53_Ring3', 'THH53_Ring4', 'THH53_Ring5','THH54_Ring1', 'THH54_Ring2', 'THH54_Ring3', 'THH54_Ring4',\n",
    "       'THH54_Ring5', 'THH55_Ring1', 'THH55_Ring2', 'THH55_Ring3','THH55_Ring4', 'THH55_Ring5', 'THH56_Ring1', 'THH56_Ring2',\n",
    "       'THH56_Ring3', 'THH56_Ring4', 'THH56_Ring5', 'THH57_Ring1','THH57_Ring2', 'THH57_Ring3', 'THH57_Ring4', 'THH57_Ring5',\n",
    "       'THH58_Ring1', 'THH58_Ring2', 'THH58_Ring3', 'THH58_Ring4','THH58_Ring5', 'THH59_Ring1', 'THH59_Ring2', 'THH59_Ring3',\n",
    "       'THH59_Ring4', 'THH59_Ring5', 'THH60_Ring1', 'THH60_Ring2','THH60_Ring3', 'THH60_Ring4', 'THH60_Ring5', 'THH61_Ring1',\n",
    "       'THH61_Ring2', 'THH61_Ring3', 'THH61_Ring4', 'THH61_Ring5','THH62_Ring1', 'THH62_Ring2', 'THH62_Ring3', 'THH62_Ring4',\n",
    "       'THH62_Ring5', 'THH63_Ring1', 'THH63_Ring2', 'THH63_Ring3','THH63_Ring4', 'THH63_Ring5', 'THH64_Ring1', 'THH64_Ring2',\n",
    "       'THH64_Ring3', 'THH64_Ring4', 'THH64_Ring5', 'THH65_Ring1','THH65_Ring2', 'THH65_Ring3', 'THH65_Ring4', 'THH65_Ring5',\n",
    "       'THH66_Ring1', 'THH66_Ring2', 'THH66_Ring3', 'THH66_Ring4','THH66_Ring5', 'THH67_Ring1', 'THH67_Ring2', 'THH67_Ring3',\n",
    "       'THH67_Ring4', 'THH67_Ring5', 'THH68_Ring1', 'THH68_Ring2','THH68_Ring3', 'THH68_Ring4', 'THH68_Ring5', 'ID', 'NAME',\n",
    "       '28dnetcost', 'netcost', 'LSF7225_Ring3', 'LSF7225_Ring4', 'LSF7225_Ring5', 'S01_BUS_Ring1',\n",
    "       'S01_BUS_Ring2', 'S01_BUS_Ring3', 'S01_BUS_Ring4', 'S01_BUS_Ring5','S01_EMP_Ring1', 'S01_EMP_Ring2', 'S01_EMP_Ring3', 'S01_EMP_Ring4',\n",
    "       'S01_EMP_Ring5', 'X8029_X_Ring1', 'X8029_X_Ring2', 'X8029_X_Ring3','X8029_X_Ring4', 'X8029_X_Ring5', 'X4033_X_Ring1', 'X4033_X_Ring2',\n",
    "       'X4033_X_Ring3', 'X4033_X_Ring4', 'X4033_X_Ring5', 'PCI_CY_Ring1','PCI_CY_Ring2', 'PCI_CY_Ring3', 'PCI_CY_Ring4', 'PCI_CY_Ring5',\n",
    "       'privatelabeldescription']\n",
    "df.drop(columns = to_drop, inplace=True)"
   ]
  },
  {
   "cell_type": "raw",
   "metadata": {},
   "source": [
    "to_float = {}\n",
    "# This will change all columns that can be represented as floats to floats.\n",
    "for rowname in df.columns.values:\n",
    "    if rowname == 'upc':\n",
    "        continue\n",
    "\n",
    "    val = df[rowname][0]\n",
    "    try:\n",
    "        val = float(val)\n",
    "    except ValueError:\n",
    "        continue\n",
    "    to_float[rowname] = float\n",
    "\n",
    "\n",
    "import re\n",
    "newDict = {}\n",
    "p = re.compile('7')\n",
    "q = re.compile('2')\n",
    "for colname in df.columns.values:\n",
    "    if p.match(colname):\n",
    "        newDict[colname] = re.sub(p,'seven',colname)\n",
    "    elif q.match(colname):\n",
    "        newDict[colname] = re.sub(q,'two',colname)\n",
    "df.rename(columns=newDict,inplace=True)\n",
    "\n",
    "\n",
    "# find and remove entry with NaN for seven day average retail\n",
    "df.dropna(subset=['7davgretail','28davgretail4wavg'],inplace=True)\n",
    "\n",
    "# make all categoricla into numeric types using category codes from pandas\n",
    "for col_name in df.columns:\n",
    "    if(df[col_name].dtype == 'object'):\n",
    "        df[col_name]= df[col_name].astype('category')\n",
    "        df[col_name] = df[col_name].cat.codes"
   ]
  },
  {
   "cell_type": "code",
   "execution_count": 3,
   "metadata": {},
   "outputs": [
    {
     "data": {
      "text/plain": [
       "array(['actualdate', 'upc', 'mfsfilenumber', 'storenumber',\n",
       "       'fyweekendingdateint', 'category', 'subcategory', 'parentcompany',\n",
       "       'parentbrand', 'privatelabel', 'nielsencategory',\n",
       "       'nielsensubcategory', 'nielsenparentbrand', 'corporatedepartment',\n",
       "       'organic', 'commodity', 'subcommodity', 'size', 'planogramstatus',\n",
       "       'regionname', 'storetypedescription', 'new', 'marketdescription',\n",
       "       'districtname', 'locationtypedescription', 'storeformat',\n",
       "       'storesize', 'population_level', 'averageage_level',\n",
       "       'personsperhousehold_level', 'householdincome_level',\n",
       "       'percapitaincome_level', 'percent_white_level',\n",
       "       'percent_africanamerican_level', 'percent_hispanic_level',\n",
       "       'percent_asian_level', 'percent_other_level', 'college_level',\n",
       "       'population_change_1_yr', 'population_change_10_yr', 'averageage',\n",
       "       'population', 'avgdiscount', 'promotiontype',\n",
       "       'featuretypedescription', 'promotionlengthindays',\n",
       "       'lineitemonpromotion', 'lineitempricesensitive', 'saleamount',\n",
       "       'quantity', 'Afternoon', 'Evening', 'Morning', 'Overnite',\n",
       "       'two8ditemweight', 'two8dsaleamount', 'two8davgretail4wavg',\n",
       "       'two8dmovement4wavg', 'sevenditemweight', 'sevendsaleamount',\n",
       "       'sevendavgretail', 'sevendmovement', 'variantitemcount',\n",
       "       'subcategoryitemcount', 'categoryitemcount', 'Number',\n",
       "       'AdjustedSalesPerWeek_Ring1', 'AdjustedSalesPerWeek_Ring2',\n",
       "       'AdjustedSalesPerWeek_Ring3', 'AdjustedSalesPerWeek_Ring4',\n",
       "       'AdjustedSalesPerWeek_Ring5', 'TOTPOP_FY_Ring1', 'TOTPOP_FY_Ring2',\n",
       "       'TOTPOP_FY_Ring3', 'TOTPOP_FY_Ring4', 'TOTPOP_FY_Ring5',\n",
       "       'RSALES4451_Ring1', 'RSALES4451_Ring2', 'RSALES4451_Ring3',\n",
       "       'RSALES4451_Ring4', 'RSALES4451_Ring5', 'RETPOT4451_Ring1',\n",
       "       'RETPOT4451_Ring2', 'RETPOT4451_Ring3', 'RETPOT4451_Ring4',\n",
       "       'RETPOT4451_Ring5', 'LSF4451_Ring1', 'LSF4451_Ring2',\n",
       "       'LSF4451_Ring3', 'LSF4451_Ring4', 'LSF4451_Ring5',\n",
       "       'RSALES7225_Ring1', 'RSALES7225_Ring2', 'RSALES7225_Ring3',\n",
       "       'RSALES7225_Ring4', 'RSALES7225_Ring5', 'RETPOT7225_Ring1',\n",
       "       'RETPOT7225_Ring2', 'RETPOT7225_Ring3', 'RETPOT7225_Ring4',\n",
       "       'RETPOT7225_Ring5', 'LSF7225_Ring1', 'LSF7225_Ring2',\n",
       "       'AVGHINC_CY_Ring1', 'AVGHINC_CY_Ring2', 'AVGHINC_CY_Ring3',\n",
       "       'AVGHINC_CY_Ring4', 'AVGHINC_CY_Ring5', 'TOTHH_CY_Ring1',\n",
       "       'TOTHH_CY_Ring2', 'TOTHH_CY_Ring3', 'TOTHH_CY_Ring4',\n",
       "       'TOTHH_CY_Ring5', 'DPOP_CY_Ring1', 'DPOP_CY_Ring2',\n",
       "       'DPOP_CY_Ring3', 'DPOP_CY_Ring4', 'DPOP_CY_Ring5',\n",
       "       'DPOPWRK_CY_Ring1', 'DPOPWRK_CY_Ring2', 'DPOPWRK_CY_Ring3',\n",
       "       'DPOPWRK_CY_Ring4', 'DPOPWRK_CY_Ring5', 'DPOPRES_CY_Ring1',\n",
       "       'DPOPRES_CY_Ring2', 'DPOPRES_CY_Ring3', 'DPOPRES_CY_Ring4',\n",
       "       'DPOPRES_CY_Ring5', 'DPOPDENSCY_Ring1', 'DPOPDENSCY_Ring2',\n",
       "       'DPOPDENSCY_Ring3', 'DPOPDENSCY_Ring4', 'DPOPDENSCY_Ring5',\n",
       "       'TOTPOP_CY_Ring1', 'TOTPOP_CY_Ring2', 'TOTPOP_CY_Ring3',\n",
       "       'TOTPOP_CY_Ring4', 'TOTPOP_CY_Ring5', 'UNEMP_CY_Ring1',\n",
       "       'UNEMP_CY_Ring2', 'UNEMP_CY_Ring3', 'UNEMP_CY_Ring4',\n",
       "       'UNEMP_CY_Ring5', 'X10002_X_Ring1', 'X10002_X_Ring2',\n",
       "       'X10002_X_Ring3', 'X10002_X_Ring4', 'X10002_X_Ring5',\n",
       "       'WHITE_CY_Ring1', 'WHITE_CY_Ring2', 'WHITE_CY_Ring3',\n",
       "       'WHITE_CY_Ring4', 'WHITE_CY_Ring5', 'BLACK_CY_Ring1',\n",
       "       'BLACK_CY_Ring2', 'BLACK_CY_Ring3', 'BLACK_CY_Ring4',\n",
       "       'BLACK_CY_Ring5', 'AMERIND_CY_Ring1', 'AMERIND_CY_Ring2',\n",
       "       'AMERIND_CY_Ring3', 'AMERIND_CY_Ring4', 'AMERIND_CY_Ring5',\n",
       "       'ASIAN_CY_Ring1', 'ASIAN_CY_Ring2', 'ASIAN_CY_Ring3',\n",
       "       'ASIAN_CY_Ring4', 'ASIAN_CY_Ring5', 'PACIFIC_CY_Ring1',\n",
       "       'PACIFIC_CY_Ring2', 'PACIFIC_CY_Ring3', 'PACIFIC_CY_Ring4',\n",
       "       'PACIFIC_CY_Ring5', 'OTHRACE_CY_Ring1', 'OTHRACE_CY_Ring2',\n",
       "       'OTHRACE_CY_Ring3', 'OTHRACE_CY_Ring4', 'OTHRACE_CY_Ring5',\n",
       "       'RACE2UP_CY_Ring1', 'RACE2UP_CY_Ring2', 'RACE2UP_CY_Ring3',\n",
       "       'RACE2UP_CY_Ring4', 'RACE2UP_CY_Ring5', 'HISPPOP_CY_Ring1',\n",
       "       'HISPPOP_CY_Ring2', 'HISPPOP_CY_Ring3', 'HISPPOP_CY_Ring4',\n",
       "       'HISPPOP_CY_Ring5', 'DIVINDX_CY_Ring1', 'DIVINDX_CY_Ring2',\n",
       "       'DIVINDX_CY_Ring3', 'DIVINDX_CY_Ring4', 'DIVINDX_CY_Ring5',\n",
       "       'X1003_X_Ring1', 'X1003_X_Ring2', 'X1003_X_Ring3', 'X1003_X_Ring4',\n",
       "       'X1003_X_Ring5', 'X1003_A_Ring1', 'X1003_A_Ring2', 'X1003_A_Ring3',\n",
       "       'X1003_A_Ring4', 'X1003_A_Ring5', 'X1003_I_Ring1', 'X1003_I_Ring2',\n",
       "       'X1003_I_Ring3', 'X1003_I_Ring4', 'X1003_I_Ring5', 'TSEGNUM_Ring1',\n",
       "       'TSEGNUM_Ring2', 'TSEGNUM_Ring3', 'TSEGNUM_Ring4', 'TSEGNUM_Ring5',\n",
       "       'TSEGCODE_Ring1', 'TSEGCODE_Ring2', 'TSEGCODE_Ring3',\n",
       "       'TSEGCODE_Ring4', 'TSEGCODE_Ring5', 'TSEGNAME_Ring1',\n",
       "       'TSEGNAME_Ring2', 'TSEGNAME_Ring3', 'TSEGNAME_Ring4',\n",
       "       'TSEGNAME_Ring5', 'THHBASE_Ring1', 'THHBASE_Ring2',\n",
       "       'THHBASE_Ring3', 'THHBASE_Ring4', 'THHBASE_Ring5', 'THH01_Ring1',\n",
       "       'CompetitorsNearbyCount', 'CompetitorsAvgDriveTime',\n",
       "       'CompetitorsMinDriveTime', 'WalmartsNearbyCount',\n",
       "       'WalmartAvgDriveTime', 'WalmartMinDriveTime', 'storesize_Medium',\n",
       "       'storesize_Small', 'storesize_Unknown'], dtype=object)"
      ]
     },
     "execution_count": 3,
     "metadata": {},
     "output_type": "execute_result"
    }
   ],
   "source": [
    "df.columns.values"
   ]
  },
  {
   "cell_type": "code",
   "execution_count": 4,
   "metadata": {},
   "outputs": [],
   "source": [
    "uniqueUpcList = list(pd.Series(df['upc']))"
   ]
  },
  {
   "cell_type": "code",
   "execution_count": 5,
   "metadata": {},
   "outputs": [],
   "source": [
    "# dfupc.rename(columns={'7dmovement': 'sevendmovement', '7davgretail': 'sevendavgretail'}, inplace = True)"
   ]
  },
  {
   "cell_type": "code",
   "execution_count": 6,
   "metadata": {},
   "outputs": [
    {
     "data": {
      "text/plain": [
       "(292744, 241)"
      ]
     },
     "execution_count": 6,
     "metadata": {},
     "output_type": "execute_result"
    }
   ],
   "source": [
    "# create three dummy variables using get_dummies, then exclude the first dummy column\n",
    "storesize_dummies = pd.get_dummies(df.storesize, prefix='storesize').iloc[:, 1:]\n",
    "\n",
    "# concatenate the dummy variable columns onto the original DataFrame (axis=0 means rows, axis=1 means columns)\n",
    "df = pd.concat([df, storesize_dummies], axis=1)\n",
    "df.shape"
   ]
  },
  {
   "cell_type": "code",
   "execution_count": 7,
   "metadata": {},
   "outputs": [
    {
     "name": "stdout",
     "output_type": "stream",
     "text": [
      "256\n"
     ]
    }
   ],
   "source": [
    "upcCount = dict(pd.Series(df['upc'].value_counts()))\n",
    "upcToDrop = []\n",
    "for key in upcCount:\n",
    "    if upcCount[key] < 50:\n",
    "        upcToDrop.append(key)\n",
    "print(len(upcToDrop))\n",
    "\n",
    "for item in uniqueUpcList:\n",
    "    if item in upcToDrop:\n",
    "        uniqueUpcList.remove(item)\n",
    "\n"
   ]
  },
  {
   "cell_type": "raw",
   "metadata": {},
   "source": [
    "# get a list of each unique UPC \n",
    "\n",
    "# run each operation below on a subset of the data by UPC\n",
    "\n",
    "# read in the data as a float to begin with\n",
    "\n",
    "# 28davgretail4wavg might need to be dropped\n",
    "\n",
    "\n",
    "resultDict = {}\n",
    "for uniqueUpc in uniqueUpcList:\n",
    "    upcSubset = df[df['upc'] == int(uniqueUpc)]\n",
    "    X = upcSubset.drop(columns=['7dmovement','upc'])\n",
    "    y = upcSubset['7dmovement']\n",
    "    lm.fit(X,y)\n",
    "    resultDict[int(uniqueUpc)] = (lm.intercept_,lm.coef_)"
   ]
  },
  {
   "cell_type": "code",
   "execution_count": 8,
   "metadata": {},
   "outputs": [],
   "source": [
    "# dfupc = df[df['upc'].isin([28200004650])]"
   ]
  },
  {
   "cell_type": "raw",
   "metadata": {},
   "source": [
    "# create X (using a number of features) and y\n",
    "feature_cols = dfupc.drop(columns=['upc','sevendmovement']).columns.values\n",
    "X = dfupc[feature_cols]\n",
    "y = list(dfupc['sevendmovement'])\n",
    "\n",
    "# follow the usual sklearn pattern: import, instantiate, fit\n",
    "\n",
    "lm = LinearRegression()\n",
    "lm.fit(X, y)\n",
    "\n",
    "# print intercept and coefficients\n",
    "print (lm.intercept_)\n",
    "print (lm.coef_)"
   ]
  },
  {
   "cell_type": "code",
   "execution_count": 9,
   "metadata": {},
   "outputs": [
    {
     "ename": "NameError",
     "evalue": "name 'dfupc' is not defined",
     "output_type": "error",
     "traceback": [
      "\u001b[1;31m---------------------------------------------------------------------------\u001b[0m",
      "\u001b[1;31mNameError\u001b[0m                                 Traceback (most recent call last)",
      "\u001b[1;32m<ipython-input-9-ddc96f53abdb>\u001b[0m in \u001b[0;36m<module>\u001b[1;34m()\u001b[0m\n\u001b[0;32m      1\u001b[0m \u001b[0margstring\u001b[0m \u001b[1;33m=\u001b[0m \u001b[1;34m'sevendmovement ~'\u001b[0m\u001b[1;33m\u001b[0m\u001b[0m\n\u001b[1;32m----> 2\u001b[1;33m \u001b[1;32mfor\u001b[0m \u001b[0mcolname\u001b[0m \u001b[1;32min\u001b[0m \u001b[0mdfupc\u001b[0m\u001b[1;33m.\u001b[0m\u001b[0mdrop\u001b[0m\u001b[1;33m(\u001b[0m\u001b[0mcolumns\u001b[0m\u001b[1;33m=\u001b[0m\u001b[1;33m[\u001b[0m\u001b[1;34m'upc'\u001b[0m\u001b[1;33m,\u001b[0m\u001b[1;34m'sevendmovement'\u001b[0m\u001b[1;33m,\u001b[0m \u001b[1;34m'quantity'\u001b[0m\u001b[1;33m]\u001b[0m\u001b[1;33m)\u001b[0m\u001b[1;33m:\u001b[0m \u001b[1;31m# add additional column names to exclude them as features that are considered by the model\u001b[0m\u001b[1;33m\u001b[0m\u001b[0m\n\u001b[0m\u001b[0;32m      3\u001b[0m     \u001b[0margstring\u001b[0m \u001b[1;33m=\u001b[0m \u001b[0margstring\u001b[0m \u001b[1;33m+\u001b[0m \u001b[1;33m(\u001b[0m\u001b[1;34m' '\u001b[0m \u001b[1;33m+\u001b[0m \u001b[0mcolname\u001b[0m \u001b[1;33m+\u001b[0m \u001b[1;34m' +'\u001b[0m\u001b[1;33m)\u001b[0m\u001b[1;33m\u001b[0m\u001b[0m\n\u001b[0;32m      4\u001b[0m \u001b[0margstring\u001b[0m \u001b[1;33m=\u001b[0m \u001b[0margstring\u001b[0m\u001b[1;33m[\u001b[0m\u001b[1;33m:\u001b[0m\u001b[1;33m-\u001b[0m\u001b[1;36m2\u001b[0m\u001b[1;33m]\u001b[0m\u001b[1;33m\u001b[0m\u001b[0m\n\u001b[0;32m      5\u001b[0m \u001b[0margstring\u001b[0m\u001b[1;33m\u001b[0m\u001b[0m\n",
      "\u001b[1;31mNameError\u001b[0m: name 'dfupc' is not defined"
     ]
    }
   ],
   "source": [
    "argstring = 'sevendmovement ~'\n",
    "for colname in dfupc.drop(columns=['upc','sevendmovement', 'quantity']): # add additional column names to exclude them as features that are considered by the model\n",
    "    argstring = argstring + (' ' + colname + ' +')\n",
    "argstring = argstring[:-2]\n",
    "argstring"
   ]
  },
  {
   "cell_type": "code",
   "execution_count": null,
   "metadata": {},
   "outputs": [],
   "source": [
    "upcModelDict = {}\n",
    "\n",
    "# run an ols model for each upc with > 50 observations\n",
    "for uniqueUpc in uniqueUpcList:\n",
    "    lm = smf.ols(formula=argstring,data= df[df['upc'].isin([uniqueUpc])]).fit()\n",
    "    tempdict = dict(lm.pvalues)\n",
    "    finaldict = {}\n",
    "    for item in tempdict:\n",
    "        if tempdict[item] < 0.15:\n",
    "            finaldict[item] = tempdict[item]\n",
    "    if len(finaldict) > 1:\n",
    "        upcModelDict[uniqueUpc] = finaldict\n"
   ]
  },
  {
   "cell_type": "code",
   "execution_count": null,
   "metadata": {},
   "outputs": [],
   "source": [
    "listOfFeatures = []\n",
    "for key in upcModelDict: # this will create a list of the sets of significant features for each upc model\n",
    "    listOfFeatures.append(set(upcModelDict[key].keys()))\n",
    "\n",
    "finalFeaturesFrequency = {} # create an empty dictionary with the purpose of storing the frequency that each feature appeared to be significant\n",
    "for nextSet in listOfFeatures: # iterate through each set in the list of features\n",
    "    for key in nextSet:\n",
    "        try: # add one if the key exists\n",
    "            finalFeaturesFrequency[key] += 1\n",
    "        except KeyError: # otherwise create the key and set its value to one\n",
    "            finalFeaturesFrequency[key] = 1\n",
    "\n",
    "finalFeaturesProportion = finalFeaturesFrequency.copy() # make a copy of the frequency dict, to replace the value with the proportion\n",
    "\n",
    "for key in finalFeaturesProportion:\n",
    "    finalFeaturesProportion[key] = round(finalFeaturesProportion[key]/len(listOfFeatures),3)"
   ]
  },
  {
   "cell_type": "code",
   "execution_count": null,
   "metadata": {},
   "outputs": [],
   "source": [
    "s = [(k, finalFeaturesProportion[k]) for k in sorted(finalFeaturesProportion, key=finalFeaturesProportion.get, reverse=True)]\n",
    "s\n",
    "\n",
    "# mean absolute percentage error"
   ]
  },
  {
   "cell_type": "code",
   "execution_count": null,
   "metadata": {},
   "outputs": [],
   "source": [
    "# verfiy model using statsmodels\n",
    "\n",
    "# create a fitted model with multiple features\n",
    "lm = smf.ols(formula=argstring, data=dfupc).fit()\n",
    "\n",
    "# print the coefficients\n",
    "lm.params"
   ]
  },
  {
   "cell_type": "code",
   "execution_count": null,
   "metadata": {},
   "outputs": [],
   "source": [
    "print('item\\tpval')\n",
    "\n",
    "for item in pvalDict:\n",
    "    if pvalDict[item] < 0.15:\n",
    "        print(item,pvalDict[item],sep='\\t')\n",
    "    "
   ]
  }
 ],
 "metadata": {
  "kernelspec": {
   "display_name": "Python 3",
   "language": "python",
   "name": "python3"
  },
  "language_info": {
   "codemirror_mode": {
    "name": "ipython",
    "version": 3
   },
   "file_extension": ".py",
   "mimetype": "text/x-python",
   "name": "python",
   "nbconvert_exporter": "python",
   "pygments_lexer": "ipython3",
   "version": "3.6.4"
  }
 },
 "nbformat": 4,
 "nbformat_minor": 2
}
