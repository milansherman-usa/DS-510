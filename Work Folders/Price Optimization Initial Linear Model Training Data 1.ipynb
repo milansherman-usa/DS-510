{
 "cells": [
  {
   "cell_type": "code",
   "execution_count": 28,
   "metadata": {},
   "outputs": [
    {
     "data": {
      "text/plain": [
       "(7515001, 15)"
      ]
     },
     "execution_count": 28,
     "metadata": {},
     "output_type": "execute_result"
    }
   ],
   "source": [
    "import pandas as pd\n",
    "import matplotlib.pyplot as plt\n",
    "import pickle\n",
    "%matplotlib inline\n",
    "df = pd.read_csv('C:/Users/misherman/Documents/Promo.csv')\n",
    "df.shape"
   ]
  },
  {
   "cell_type": "code",
   "execution_count": 4,
   "metadata": {},
   "outputs": [
    {
     "data": {
      "text/plain": [
       "78000083160    1834\n",
       "78000082160    1834\n",
       "78000011800    1729\n",
       "78000052160    1666\n",
       "49000050110    1554\n",
       "49000050100    1554\n",
       "49000050140    1554\n",
       "49000050150    1526\n",
       "12000809940    1428\n",
       "12000809990    1428\n",
       "12000809950    1428\n",
       "12000809960    1428\n",
       "12000809970    1428\n",
       "49000028910    1378\n",
       "49000042550    1378\n",
       "49000028900    1365\n",
       "49000028920    1365\n",
       "12000150170    1106\n",
       "18200610300    1092\n",
       "18200860310    1092\n",
       "75450061090     936\n",
       "75450060910     936\n",
       "75450127120     936\n",
       "75450093790     936\n",
       "75450093840     936\n",
       "75450127130     936\n",
       "75450093980     936\n",
       "75450061310     936\n",
       "75450060930     936\n",
       "71990116000     936\n",
       "               ... \n",
       "75450035970       2\n",
       "75450014710       2\n",
       "75450064640       2\n",
       "75450173870       2\n",
       "75450085130       2\n",
       "75450060550       2\n",
       "75450084870       2\n",
       "75450014690       2\n",
       "11225131430       2\n",
       "75450064650       2\n",
       "11225139260       2\n",
       "75450173370       2\n",
       "75450132930       2\n",
       "75450022670       2\n",
       "75450174380       2\n",
       "75450152470       2\n",
       "75450063860       2\n",
       "75450140110       2\n",
       "75450037230       2\n",
       "75450173730       2\n",
       "75450095560       2\n",
       "75450018520       2\n",
       "75450124820       2\n",
       "75450006300       2\n",
       "75450174370       2\n",
       "75450019080       2\n",
       "75450173350       2\n",
       "50000427040       2\n",
       "75450013450       2\n",
       "42400937780       2\n",
       "Name: upc, Length: 7541, dtype: int64"
      ]
     },
     "execution_count": 4,
     "metadata": {},
     "output_type": "execute_result"
    }
   ],
   "source": [
    "#find the most common upc\n",
    "pd.Series(df['upc']).value_counts()"
   ]
  },
  {
   "cell_type": "code",
   "execution_count": 16,
   "metadata": {},
   "outputs": [
    {
     "data": {
      "text/html": [
       "<div>\n",
       "<style scoped>\n",
       "    .dataframe tbody tr th:only-of-type {\n",
       "        vertical-align: middle;\n",
       "    }\n",
       "\n",
       "    .dataframe tbody tr th {\n",
       "        vertical-align: top;\n",
       "    }\n",
       "\n",
       "    .dataframe thead th {\n",
       "        text-align: right;\n",
       "    }\n",
       "</style>\n",
       "<table border=\"1\" class=\"dataframe\">\n",
       "  <thead>\n",
       "    <tr style=\"text-align: right;\">\n",
       "      <th></th>\n",
       "      <th>Unnamed: 0</th>\n",
       "      <th>NewVariantID</th>\n",
       "      <th>MarketDescription</th>\n",
       "      <th>locationdimensionID</th>\n",
       "      <th>StoreItemDimensionID</th>\n",
       "      <th>upc</th>\n",
       "      <th>sevendmovement</th>\n",
       "      <th>sevendavgretail</th>\n",
       "      <th>NielsenCategory</th>\n",
       "      <th>weekName</th>\n",
       "      <th>promotion</th>\n",
       "      <th>PromotionBeginDate</th>\n",
       "      <th>PromotionLength</th>\n",
       "      <th>DaysInWeek</th>\n",
       "      <th>DaysSinceLastPromo</th>\n",
       "    </tr>\n",
       "  </thead>\n",
       "  <tbody>\n",
       "    <tr>\n",
       "      <th>0</th>\n",
       "      <td>2</td>\n",
       "      <td>10026179</td>\n",
       "      <td>Omaha/Council Bluffs</td>\n",
       "      <td>292</td>\n",
       "      <td>1033</td>\n",
       "      <td>25700021500</td>\n",
       "      <td>13.0</td>\n",
       "      <td>2.000000</td>\n",
       "      <td>FOOD STORAGE AND LUNCH BAG</td>\n",
       "      <td>2017-08-06</td>\n",
       "      <td>1</td>\n",
       "      <td>2015-09-16 00:00:00</td>\n",
       "      <td>7</td>\n",
       "      <td>7</td>\n",
       "      <td>NaN</td>\n",
       "    </tr>\n",
       "    <tr>\n",
       "      <th>1</th>\n",
       "      <td>5</td>\n",
       "      <td>10026184</td>\n",
       "      <td>Omaha/Council Bluffs</td>\n",
       "      <td>292</td>\n",
       "      <td>4010</td>\n",
       "      <td>25700003300</td>\n",
       "      <td>10.0</td>\n",
       "      <td>3.000000</td>\n",
       "      <td>FOOD STORAGE AND LUNCH BAG</td>\n",
       "      <td>2017-08-13</td>\n",
       "      <td>1</td>\n",
       "      <td>2015-07-22 00:00:00</td>\n",
       "      <td>29</td>\n",
       "      <td>7</td>\n",
       "      <td>NaN</td>\n",
       "    </tr>\n",
       "    <tr>\n",
       "      <th>2</th>\n",
       "      <td>16</td>\n",
       "      <td>10032766</td>\n",
       "      <td>Omaha/Council Bluffs</td>\n",
       "      <td>292</td>\n",
       "      <td>2148</td>\n",
       "      <td>41351518030</td>\n",
       "      <td>20.0</td>\n",
       "      <td>1.111428</td>\n",
       "      <td>HERB AND SPICE SEASONING</td>\n",
       "      <td>2017-07-30</td>\n",
       "      <td>1</td>\n",
       "      <td>2015-09-02 00:00:00</td>\n",
       "      <td>7</td>\n",
       "      <td>7</td>\n",
       "      <td>NaN</td>\n",
       "    </tr>\n",
       "    <tr>\n",
       "      <th>3</th>\n",
       "      <td>18</td>\n",
       "      <td>10026177</td>\n",
       "      <td>Omaha/Council Bluffs</td>\n",
       "      <td>292</td>\n",
       "      <td>1040</td>\n",
       "      <td>25700003500</td>\n",
       "      <td>14.0</td>\n",
       "      <td>3.000000</td>\n",
       "      <td>FOOD STORAGE AND LUNCH BAG</td>\n",
       "      <td>2017-08-20</td>\n",
       "      <td>1</td>\n",
       "      <td>2015-07-22 00:00:00</td>\n",
       "      <td>29</td>\n",
       "      <td>7</td>\n",
       "      <td>NaN</td>\n",
       "    </tr>\n",
       "    <tr>\n",
       "      <th>4</th>\n",
       "      <td>22</td>\n",
       "      <td>10026172</td>\n",
       "      <td>Omaha/Council Bluffs</td>\n",
       "      <td>292</td>\n",
       "      <td>831</td>\n",
       "      <td>25700003890</td>\n",
       "      <td>9.0</td>\n",
       "      <td>3.000000</td>\n",
       "      <td>FOOD STORAGE AND LUNCH BAG</td>\n",
       "      <td>2017-08-13</td>\n",
       "      <td>1</td>\n",
       "      <td>2015-07-22 00:00:00</td>\n",
       "      <td>29</td>\n",
       "      <td>7</td>\n",
       "      <td>NaN</td>\n",
       "    </tr>\n",
       "  </tbody>\n",
       "</table>\n",
       "</div>"
      ],
      "text/plain": [
       "   Unnamed: 0  NewVariantID     MarketDescription  locationdimensionID  \\\n",
       "0           2      10026179  Omaha/Council Bluffs                  292   \n",
       "1           5      10026184  Omaha/Council Bluffs                  292   \n",
       "2          16      10032766  Omaha/Council Bluffs                  292   \n",
       "3          18      10026177  Omaha/Council Bluffs                  292   \n",
       "4          22      10026172  Omaha/Council Bluffs                  292   \n",
       "\n",
       "   StoreItemDimensionID          upc  sevendmovement  sevendavgretail  \\\n",
       "0                  1033  25700021500            13.0         2.000000   \n",
       "1                  4010  25700003300            10.0         3.000000   \n",
       "2                  2148  41351518030            20.0         1.111428   \n",
       "3                  1040  25700003500            14.0         3.000000   \n",
       "4                   831  25700003890             9.0         3.000000   \n",
       "\n",
       "              NielsenCategory    weekName  promotion   PromotionBeginDate  \\\n",
       "0  FOOD STORAGE AND LUNCH BAG  2017-08-06          1  2015-09-16 00:00:00   \n",
       "1  FOOD STORAGE AND LUNCH BAG  2017-08-13          1  2015-07-22 00:00:00   \n",
       "2    HERB AND SPICE SEASONING  2017-07-30          1  2015-09-02 00:00:00   \n",
       "3  FOOD STORAGE AND LUNCH BAG  2017-08-20          1  2015-07-22 00:00:00   \n",
       "4  FOOD STORAGE AND LUNCH BAG  2017-08-13          1  2015-07-22 00:00:00   \n",
       "\n",
       "   PromotionLength  DaysInWeek  DaysSinceLastPromo  \n",
       "0                7           7                 NaN  \n",
       "1               29           7                 NaN  \n",
       "2                7           7                 NaN  \n",
       "3               29           7                 NaN  \n",
       "4               29           7                 NaN  "
      ]
     },
     "execution_count": 16,
     "metadata": {},
     "output_type": "execute_result"
    }
   ],
   "source": [
    "#create dataframe using the most common upc\n",
    "dfupc = df[df['upc'].isin([78000083160])]\n",
    "dfupc.shape\n",
    "df.head()"
   ]
  },
  {
   "cell_type": "code",
   "execution_count": 29,
   "metadata": {},
   "outputs": [],
   "source": [
    "df = df.rename(columns={'7dmovement': 'sevendmovement', '7davgretail': 'sevendavgretail'})"
   ]
  },
  {
   "cell_type": "code",
   "execution_count": 8,
   "metadata": {},
   "outputs": [
    {
     "data": {
      "text/html": [
       "<div>\n",
       "<style scoped>\n",
       "    .dataframe tbody tr th:only-of-type {\n",
       "        vertical-align: middle;\n",
       "    }\n",
       "\n",
       "    .dataframe tbody tr th {\n",
       "        vertical-align: top;\n",
       "    }\n",
       "\n",
       "    .dataframe thead th {\n",
       "        text-align: right;\n",
       "    }\n",
       "</style>\n",
       "<table border=\"1\" class=\"dataframe\">\n",
       "  <thead>\n",
       "    <tr style=\"text-align: right;\">\n",
       "      <th></th>\n",
       "      <th>Unnamed: 0</th>\n",
       "      <th>NewVariantID</th>\n",
       "      <th>MarketDescription</th>\n",
       "      <th>locationdimensionID</th>\n",
       "      <th>StoreItemDimensionID</th>\n",
       "      <th>upc</th>\n",
       "      <th>sevendmovement</th>\n",
       "      <th>sevendavgretail</th>\n",
       "      <th>NielsenCategory</th>\n",
       "      <th>weekName</th>\n",
       "      <th>promotion</th>\n",
       "      <th>PromotionBeginDate</th>\n",
       "      <th>PromotionLength</th>\n",
       "      <th>DaysInWeek</th>\n",
       "      <th>DaysSinceLastPromo</th>\n",
       "    </tr>\n",
       "  </thead>\n",
       "  <tbody>\n",
       "  </tbody>\n",
       "</table>\n",
       "</div>"
      ],
      "text/plain": [
       "Empty DataFrame\n",
       "Columns: [Unnamed: 0, NewVariantID, MarketDescription, locationdimensionID, StoreItemDimensionID, upc, sevendmovement, sevendavgretail, NielsenCategory, weekName, promotion, PromotionBeginDate, PromotionLength, DaysInWeek, DaysSinceLastPromo]\n",
       "Index: []"
      ]
     },
     "execution_count": 8,
     "metadata": {},
     "output_type": "execute_result"
    }
   ],
   "source": [
    "# find and remove entry with NaN for seven day average retail\n",
    "dfupc[dfupc['sevendavgretail'].isna()]"
   ]
  },
  {
   "cell_type": "code",
   "execution_count": 9,
   "metadata": {},
   "outputs": [
    {
     "name": "stdout",
     "output_type": "stream",
     "text": [
      "5.489999999999828\n"
     ]
    }
   ],
   "source": [
    "retail_mean = dfupc['sevendavgretail'].mean()\n",
    "print (retail_mean)"
   ]
  },
  {
   "cell_type": "code",
   "execution_count": 10,
   "metadata": {},
   "outputs": [],
   "source": [
    "dfupc['sevendavgretail']=dfupc['sevendavgretail'].fillna(retail_mean)"
   ]
  },
  {
   "cell_type": "code",
   "execution_count": 11,
   "metadata": {},
   "outputs": [
    {
     "data": {
      "text/html": [
       "<div>\n",
       "<style scoped>\n",
       "    .dataframe tbody tr th:only-of-type {\n",
       "        vertical-align: middle;\n",
       "    }\n",
       "\n",
       "    .dataframe tbody tr th {\n",
       "        vertical-align: top;\n",
       "    }\n",
       "\n",
       "    .dataframe thead th {\n",
       "        text-align: right;\n",
       "    }\n",
       "</style>\n",
       "<table border=\"1\" class=\"dataframe\">\n",
       "  <thead>\n",
       "    <tr style=\"text-align: right;\">\n",
       "      <th></th>\n",
       "      <th>Unnamed: 0</th>\n",
       "      <th>NewVariantID</th>\n",
       "      <th>MarketDescription</th>\n",
       "      <th>locationdimensionID</th>\n",
       "      <th>StoreItemDimensionID</th>\n",
       "      <th>upc</th>\n",
       "      <th>sevendmovement</th>\n",
       "      <th>sevendavgretail</th>\n",
       "      <th>NielsenCategory</th>\n",
       "      <th>weekName</th>\n",
       "      <th>promotion</th>\n",
       "      <th>PromotionBeginDate</th>\n",
       "      <th>PromotionLength</th>\n",
       "      <th>DaysInWeek</th>\n",
       "      <th>DaysSinceLastPromo</th>\n",
       "    </tr>\n",
       "  </thead>\n",
       "  <tbody>\n",
       "  </tbody>\n",
       "</table>\n",
       "</div>"
      ],
      "text/plain": [
       "Empty DataFrame\n",
       "Columns: [Unnamed: 0, NewVariantID, MarketDescription, locationdimensionID, StoreItemDimensionID, upc, sevendmovement, sevendavgretail, NielsenCategory, weekName, promotion, PromotionBeginDate, PromotionLength, DaysInWeek, DaysSinceLastPromo]\n",
       "Index: []"
      ]
     },
     "execution_count": 11,
     "metadata": {},
     "output_type": "execute_result"
    }
   ],
   "source": [
    "dfupc[dfupc['sevendavgretail'].isna()]"
   ]
  },
  {
   "cell_type": "code",
   "execution_count": 12,
   "metadata": {},
   "outputs": [
    {
     "data": {
      "text/plain": [
       "660.0     31\n",
       "1470.0    28\n",
       "1330.0    28\n",
       "1498.0    27\n",
       "1456.0    27\n",
       "1624.0    27\n",
       "1372.0    27\n",
       "854.0     27\n",
       "1862.0    27\n",
       "1848.0    27\n",
       "1106.0    27\n",
       "1302.0    27\n",
       "1526.0    27\n",
       "3080.0    27\n",
       "1064.0    27\n",
       "1596.0    18\n",
       "228.0     17\n",
       "321.0     17\n",
       "237.0     17\n",
       "399.0     17\n",
       "294.0     17\n",
       "380.0     17\n",
       "327.0     17\n",
       "183.0     17\n",
       "1140.0    17\n",
       "348.0     17\n",
       "396.0     17\n",
       "285.0     17\n",
       "312.0     17\n",
       "315.0     17\n",
       "          ..\n",
       "930.0      1\n",
       "3496.0     1\n",
       "3591.0     1\n",
       "5060.0     1\n",
       "2511.0     1\n",
       "2185.0     1\n",
       "1748.0     1\n",
       "553.0      1\n",
       "1710.0     1\n",
       "651.0      1\n",
       "2394.0     1\n",
       "2052.0     1\n",
       "2088.0     1\n",
       "1740.0     1\n",
       "3634.0     1\n",
       "3059.0     1\n",
       "4508.0     1\n",
       "2254.0     1\n",
       "2415.0     1\n",
       "735.0      1\n",
       "749.0      1\n",
       "1926.0     1\n",
       "2889.0     1\n",
       "1605.0     1\n",
       "2943.0     1\n",
       "2808.0     1\n",
       "2376.0     1\n",
       "4830.0     1\n",
       "950.0      1\n",
       "4922.0     1\n",
       "Name: sevendmovement, Length: 283, dtype: int64"
      ]
     },
     "execution_count": 12,
     "metadata": {},
     "output_type": "execute_result"
    }
   ],
   "source": [
    "pd.Series(dfupc['sevendmovement']).value_counts()"
   ]
  },
  {
   "cell_type": "code",
   "execution_count": 17,
   "metadata": {},
   "outputs": [
    {
     "data": {
      "text/html": [
       "<div>\n",
       "<style scoped>\n",
       "    .dataframe tbody tr th:only-of-type {\n",
       "        vertical-align: middle;\n",
       "    }\n",
       "\n",
       "    .dataframe tbody tr th {\n",
       "        vertical-align: top;\n",
       "    }\n",
       "\n",
       "    .dataframe thead th {\n",
       "        text-align: right;\n",
       "    }\n",
       "</style>\n",
       "<table border=\"1\" class=\"dataframe\">\n",
       "  <thead>\n",
       "    <tr style=\"text-align: right;\">\n",
       "      <th></th>\n",
       "      <th>PromotionLength</th>\n",
       "    </tr>\n",
       "  </thead>\n",
       "  <tbody>\n",
       "    <tr>\n",
       "      <th>18419</th>\n",
       "      <td>7</td>\n",
       "    </tr>\n",
       "    <tr>\n",
       "      <th>18440</th>\n",
       "      <td>7</td>\n",
       "    </tr>\n",
       "    <tr>\n",
       "      <th>18450</th>\n",
       "      <td>7</td>\n",
       "    </tr>\n",
       "    <tr>\n",
       "      <th>18467</th>\n",
       "      <td>7</td>\n",
       "    </tr>\n",
       "    <tr>\n",
       "      <th>18484</th>\n",
       "      <td>7</td>\n",
       "    </tr>\n",
       "  </tbody>\n",
       "</table>\n",
       "</div>"
      ],
      "text/plain": [
       "       PromotionLength\n",
       "18419                7\n",
       "18440                7\n",
       "18450                7\n",
       "18467                7\n",
       "18484                7"
      ]
     },
     "execution_count": 17,
     "metadata": {},
     "output_type": "execute_result"
    }
   ],
   "source": [
    "df1=dfupc[['PromotionLength']]\n",
    "df1.head()"
   ]
  },
  {
   "cell_type": "code",
   "execution_count": 14,
   "metadata": {},
   "outputs": [
    {
     "data": {
      "text/plain": [
       "'sevendavgretail'"
      ]
     },
     "execution_count": 14,
     "metadata": {},
     "output_type": "execute_result"
    }
   ],
   "source": [
    "pd.to_numeric(('sevendavgretail'), errors = 'ignore')"
   ]
  },
  {
   "cell_type": "code",
   "execution_count": 32,
   "metadata": {},
   "outputs": [
    {
     "data": {
      "text/plain": [
       "(7515001, 2)"
      ]
     },
     "execution_count": 32,
     "metadata": {},
     "output_type": "execute_result"
    }
   ],
   "source": [
    "df1=df[['PromotionLength','sevendmovement']]\n",
    "df1.shape"
   ]
  },
  {
   "cell_type": "code",
   "execution_count": 33,
   "metadata": {},
   "outputs": [
    {
     "data": {
      "text/plain": [
       "<matplotlib.axes._subplots.AxesSubplot at 0x1d9096c2fd0>"
      ]
     },
     "execution_count": 33,
     "metadata": {},
     "output_type": "execute_result"
    },
    {
     "data": {
      "image/png": "[encoded data removed]",
      "text/plain": [
       "<matplotlib.figure.Figure at 0x1d96bab7320>"
      ]
     },
     "metadata": {},
     "output_type": "display_data"
    },
    {
     "data": {
      "image/png": "[encoded data removed]",
      "text/plain": [
       "<matplotlib.figure.Figure at 0x1d9096c29b0>"
      ]
     },
     "metadata": {},
     "output_type": "display_data"
    }
   ],
   "source": [
    "# visualize the relationship between the features and the response using scatterplots\n",
    "fig, axs = plt.subplots(sharey=True)\n",
    "df1.plot(kind='scatter', x='PromotionLength', y='sevendmovement', figsize=(16, 8))"
   ]
  },
  {
   "cell_type": "code",
   "execution_count": 34,
   "metadata": {},
   "outputs": [
    {
     "data": {
      "text/plain": [
       "Intercept          40.954902\n",
       "PromotionLength    -0.124349\n",
       "dtype: float64"
      ]
     },
     "execution_count": 34,
     "metadata": {},
     "output_type": "execute_result"
    }
   ],
   "source": [
    "# this is the standard import if you're using \"formula notation\" (similar to R)\n",
    "import statsmodels.formula.api as smf\n",
    "\n",
    "# create a fitted model in one line\n",
    "lm = smf.ols(formula='sevendmovement ~ PromotionLength', data=df1).fit()\n",
    "\n",
    "# print the coefficients\n",
    "lm.params"
   ]
  },
  {
   "cell_type": "code",
   "execution_count": 35,
   "metadata": {},
   "outputs": [
    {
     "data": {
      "text/html": [
       "<div>\n",
       "<style scoped>\n",
       "    .dataframe tbody tr th:only-of-type {\n",
       "        vertical-align: middle;\n",
       "    }\n",
       "\n",
       "    .dataframe tbody tr th {\n",
       "        vertical-align: top;\n",
       "    }\n",
       "\n",
       "    .dataframe thead th {\n",
       "        text-align: right;\n",
       "    }\n",
       "</style>\n",
       "<table border=\"1\" class=\"dataframe\">\n",
       "  <thead>\n",
       "    <tr style=\"text-align: right;\">\n",
       "      <th></th>\n",
       "      <th>PromotionLength</th>\n",
       "    </tr>\n",
       "  </thead>\n",
       "  <tbody>\n",
       "    <tr>\n",
       "      <th>0</th>\n",
       "      <td>1</td>\n",
       "    </tr>\n",
       "    <tr>\n",
       "      <th>1</th>\n",
       "      <td>371</td>\n",
       "    </tr>\n",
       "  </tbody>\n",
       "</table>\n",
       "</div>"
      ],
      "text/plain": [
       "   PromotionLength\n",
       "0                1\n",
       "1              371"
      ]
     },
     "execution_count": 35,
     "metadata": {},
     "output_type": "execute_result"
    }
   ],
   "source": [
    "# create a DataFrame with the minimum and maximum values of seven day average retail\n",
    "X_new = pd.DataFrame({'PromotionLength': [df1.PromotionLength.min(), df1.PromotionLength.max()]})\n",
    "X_new.head()"
   ]
  },
  {
   "cell_type": "code",
   "execution_count": 36,
   "metadata": {},
   "outputs": [
    {
     "data": {
      "text/plain": [
       "0    40.830553\n",
       "1    -5.178546\n",
       "dtype: float64"
      ]
     },
     "execution_count": 36,
     "metadata": {},
     "output_type": "execute_result"
    }
   ],
   "source": [
    "# make predictions for those x values and store them\n",
    "preds = lm.predict(X_new)\n",
    "preds"
   ]
  },
  {
   "cell_type": "code",
   "execution_count": 37,
   "metadata": {},
   "outputs": [
    {
     "data": {
      "text/plain": [
       "[<matplotlib.lines.Line2D at 0x1d96bab7cf8>]"
      ]
     },
     "execution_count": 37,
     "metadata": {},
     "output_type": "execute_result"
    },
    {
     "data": {
      "image/png": "[encoded data removed]",
      "text/plain": [
       "<matplotlib.figure.Figure at 0x1d90972b6d8>"
      ]
     },
     "metadata": {},
     "output_type": "display_data"
    }
   ],
   "source": [
    "# first, plot the observed data\n",
    "df1.plot(kind='scatter', x='PromotionLength', y='sevendmovement')\n",
    "\n",
    "# then, plot the least squares line\n",
    "plt.plot(X_new, preds, c='red', linewidth=2)"
   ]
  },
  {
   "cell_type": "code",
   "execution_count": 38,
   "metadata": {},
   "outputs": [
    {
     "data": {
      "text/html": [
       "<table class=\"simpletable\">\n",
       "<caption>OLS Regression Results</caption>\n",
       "<tr>\n",
       "  <th>Dep. Variable:</th>     <td>sevendmovement</td>  <th>  R-squared:         </th>  <td>   0.000</td>  \n",
       "</tr>\n",
       "<tr>\n",
       "  <th>Model:</th>                   <td>OLS</td>       <th>  Adj. R-squared:    </th>  <td>   0.000</td>  \n",
       "</tr>\n",
       "<tr>\n",
       "  <th>Method:</th>             <td>Least Squares</td>  <th>  F-statistic:       </th>  <td>   1828.</td>  \n",
       "</tr>\n",
       "<tr>\n",
       "  <th>Date:</th>             <td>Thu, 16 Aug 2018</td> <th>  Prob (F-statistic):</th>   <td>  0.00</td>   \n",
       "</tr>\n",
       "<tr>\n",
       "  <th>Time:</th>                 <td>11:32:35</td>     <th>  Log-Likelihood:    </th> <td>-5.1141e+07</td>\n",
       "</tr>\n",
       "<tr>\n",
       "  <th>No. Observations:</th>      <td>7515001</td>     <th>  AIC:               </th>  <td>1.023e+08</td> \n",
       "</tr>\n",
       "<tr>\n",
       "  <th>Df Residuals:</th>          <td>7514999</td>     <th>  BIC:               </th>  <td>1.023e+08</td> \n",
       "</tr>\n",
       "<tr>\n",
       "  <th>Df Model:</th>              <td>     1</td>      <th>                     </th>      <td> </td>     \n",
       "</tr>\n",
       "<tr>\n",
       "  <th>Covariance Type:</th>      <td>nonrobust</td>    <th>                     </th>      <td> </td>     \n",
       "</tr>\n",
       "</table>\n",
       "<table class=\"simpletable\">\n",
       "<tr>\n",
       "         <td></td>            <th>coef</th>     <th>std err</th>      <th>t</th>      <th>P>|t|</th>  <th>[0.025</th>    <th>0.975]</th>  \n",
       "</tr>\n",
       "<tr>\n",
       "  <th>Intercept</th>       <td>   40.9549</td> <td>    0.087</td> <td>  471.163</td> <td> 0.000</td> <td>   40.785</td> <td>   41.125</td>\n",
       "</tr>\n",
       "<tr>\n",
       "  <th>PromotionLength</th> <td>   -0.1243</td> <td>    0.003</td> <td>  -42.760</td> <td> 0.000</td> <td>   -0.130</td> <td>   -0.119</td>\n",
       "</tr>\n",
       "</table>\n",
       "<table class=\"simpletable\">\n",
       "<tr>\n",
       "  <th>Omnibus:</th>       <td>19840607.571</td> <th>  Durbin-Watson:     </th>     <td>   1.912</td>     \n",
       "</tr>\n",
       "<tr>\n",
       "  <th>Prob(Omnibus):</th>    <td> 0.000</td>    <th>  Jarque-Bera (JB):  </th> <td>1293738139797.829</td>\n",
       "</tr>\n",
       "<tr>\n",
       "  <th>Skew:</th>             <td>31.033</td>    <th>  Prob(JB):          </th>     <td>    0.00</td>     \n",
       "</tr>\n",
       "<tr>\n",
       "  <th>Kurtosis:</th>        <td>2034.710</td>   <th>  Cond. No.          </th>     <td>    32.6</td>     \n",
       "</tr>\n",
       "</table>"
      ],
      "text/plain": [
       "<class 'statsmodels.iolib.summary.Summary'>\n",
       "\"\"\"\n",
       "                            OLS Regression Results                            \n",
       "==============================================================================\n",
       "Dep. Variable:         sevendmovement   R-squared:                       0.000\n",
       "Model:                            OLS   Adj. R-squared:                  0.000\n",
       "Method:                 Least Squares   F-statistic:                     1828.\n",
       "Date:                Thu, 16 Aug 2018   Prob (F-statistic):               0.00\n",
       "Time:                        11:32:35   Log-Likelihood:            -5.1141e+07\n",
       "No. Observations:             7515001   AIC:                         1.023e+08\n",
       "Df Residuals:                 7514999   BIC:                         1.023e+08\n",
       "Df Model:                           1                                         \n",
       "Covariance Type:            nonrobust                                         \n",
       "===================================================================================\n",
       "                      coef    std err          t      P>|t|      [0.025      0.975]\n",
       "-----------------------------------------------------------------------------------\n",
       "Intercept          40.9549      0.087    471.163      0.000      40.785      41.125\n",
       "PromotionLength    -0.1243      0.003    -42.760      0.000      -0.130      -0.119\n",
       "==============================================================================\n",
       "Omnibus:                 19840607.571   Durbin-Watson:                   1.912\n",
       "Prob(Omnibus):                  0.000   Jarque-Bera (JB):    1293738139797.829\n",
       "Skew:                          31.033   Prob(JB):                         0.00\n",
       "Kurtosis:                    2034.710   Cond. No.                         32.6\n",
       "==============================================================================\n",
       "\n",
       "Warnings:\n",
       "[1] Standard Errors assume that the covariance matrix of the errors is correctly specified.\n",
       "\"\"\""
      ]
     },
     "execution_count": 38,
     "metadata": {},
     "output_type": "execute_result"
    }
   ],
   "source": [
    "lm.summary()"
   ]
  },
  {
   "cell_type": "code",
   "execution_count": 25,
   "metadata": {},
   "outputs": [
    {
     "name": "stdout",
     "output_type": "stream",
     "text": [
      "1163.175983524895\n",
      "[-22.18617719]\n"
     ]
    }
   ],
   "source": [
    "# generate linear model using scikit-learn\n",
    "# create X and y\n",
    "feature_cols = ['PromotionLength']\n",
    "X = dfupc[feature_cols]\n",
    "y = dfupc.sevendmovement\n",
    "\n",
    "# follow the usual sklearn pattern: import, instantiate, fit\n",
    "from sklearn.linear_model import LinearRegression\n",
    "lm = LinearRegression()\n",
    "lm.fit(X, y)\n",
    "\n",
    "# print intercept and coefficients\n",
    "print (lm.intercept_)\n",
    "print (lm.coef_)"
   ]
  },
  {
   "cell_type": "code",
   "execution_count": 26,
   "metadata": {},
   "outputs": [
    {
     "data": {
      "text/plain": [
       "0.019682504430508563"
      ]
     },
     "execution_count": 26,
     "metadata": {},
     "output_type": "execute_result"
    }
   ],
   "source": [
    "# calculate the R-squared\n",
    "lm.score(X, y)"
   ]
  },
  {
   "cell_type": "code",
   "execution_count": null,
   "metadata": {},
   "outputs": [],
   "source": []
  }
 ],
 "metadata": {
  "kernelspec": {
   "display_name": "Python 3",
   "language": "python",
   "name": "python3"
  },
  "language_info": {
   "codemirror_mode": {
    "name": "ipython",
    "version": 3
   },
   "file_extension": ".py",
   "mimetype": "text/x-python",
   "name": "python",
   "nbconvert_exporter": "python",
   "pygments_lexer": "ipython3",
   "version": "3.6.4"
  }
 },
 "nbformat": 4,
 "nbformat_minor": 2
}
